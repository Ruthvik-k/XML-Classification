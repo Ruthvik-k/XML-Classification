{
  "cells": [
    {
      "cell_type": "markdown",
      "metadata": {
        "id": "wMUJP8oIJv0k"
      },
      "source": [
        "# Common Imports"
      ]
    },
    {
      "cell_type": "code",
      "execution_count": null,
      "metadata": {
        "colab": {
          "base_uri": "https://localhost:8080/"
        },
        "id": "Y4ImRFKWJy5s",
        "outputId": "5505c858-b891-4e39-f135-5d83dcca31d2"
      },
      "outputs": [
        {
          "output_type": "stream",
          "name": "stdout",
          "text": [
            "Mounted at /content/drive\n"
          ]
        }
      ],
      "source": [
        "import pandas as pd\n",
        "import numpy as np\n",
        "import math\n",
        "import os\n",
        "import sys\n",
        "import seaborn as sns\n",
        "import matplotlib.pyplot as plt\n",
        "import gc\n",
        "from sklearn.metrics import accuracy_score as accuracy\n",
        "import scipy.sparse\n",
        "from scipy.sparse import csr_matrix\n",
        "from scipy.sparse import lil_matrix\n",
        "from sklearn.multiclass import OneVsRestClassifier\n",
        "from google.colab import drive\n",
        "import warnings\n",
        "warnings.filterwarnings('ignore')\n",
        "drive.mount('/content/drive')"
      ]
    },
    {
      "cell_type": "markdown",
      "metadata": {
        "id": "gt2m0bqgz7uE"
      },
      "source": [
        "# Data Explanation"
      ]
    },
    {
      "cell_type": "markdown",
      "metadata": {
        "id": "MPi33b3ywwMz"
      },
      "source": [
        "After inspecting the label_raw_ids.txt, we can understand that the labels are numbered from 0 to 131072 (131073 labels)![image.png](data:image/png;base64,iVBORw0KGgoAAAANSUhEUgAAAMYAAABZCAYAAABlq1vLAAAAAXNSR0IArs4c6QAAAARnQU1BAACxjwv8YQUAAAAJcEhZcwAAEnQAABJ0Ad5mH3gAAAw2SURBVHhe7Zx/bBTHFcffuYlRMFAVGrUogcMIsGu5UJCVtI0iiiJBBVEs+SzU0oa4NbLVAkUp/eNckshKYuyotSt+WNUZRzG0xRWxaSxBhKmIZUXQJiFEpRZ1AIGd5ker1PSP8Ad2pbjzZmfvdu9mb3/N7v3gfaTlbmd33rzZed+dN7uHIxUVFbNAEISJEvFJEIQBEgZBSCBhEIQEEgZBSCBheGBoaEh8I4oVEgZBSCBhEIQEEgZBSCBhEIQEEgZBSFAvjOo4DI+PwzjbEjFRZiSW4MdM23AcqsXhDOzscWKQMNobH4a4yWD68bQtrf3q+HDW40Txo1AY1RAfZkHUCdDTNynKJAw2Q2VlpWGrhz5ogIGM4HNojwd9G6wf3Ze0Wd8H0DBgFNIgNJva1Ld9MMqOTo6cgjHtRC6KgQ0jUG88JyrzjyhmlAkjlhiADSP1ULmpA94XZc4Yg44eFp7RDfC4IfKc2oslmCgm+6C+eVCUMIsdewG1tL4pezBXx5tgPUzCyCldFlh3E28zVTIIh9BYmn9EcaNMGIPNlbCpIxVObqheuYz9OwHXDNWd2YvBxvXmOz4nthsaouwzWg4VWomEGOzGk0Z7wJnbUSi3NkYUGblffLM1RCcL0Mm+Q+ze7JLqlcAlZVAUXx+0Aezbh0nSMlhpcZfXZ4u+Q/atVpSjyibhprupkChgciMMw4J6fKABoiwV2utxtjESS4yL9UGzEJnVXd7FbBFLQBublZzPLEQxkBthjHXAJsMiuH5kAwwwkVg/dbJDe+rUdFNbk6TiV36Xdzxb4BM0TRWwz7CGIYqf3KdSjORieaNLZYxdYysTVq8NcyfzmkS2btFwOFvgrKaLIjkDEXcLeSEMlsUDpvGTrpP4QTjLn7f2gfnmXw2Pb8DgP5sR0I5mCxQFpngkiruWvBAGf+TKgrDHQxI/eKgPJvE9gyEPq453QkNUFvwOZgsSBcFQ98cQkvm4BHzPIHJ//gINg9MIvpxLz+Ed2uMkg1lHHtR626Ms7bJaMuAC3qpZvd22oSGora0VhUQxQn8lxAP4H5VIGMVNnqwxCCK/IGEQhAQSBkFIIGEQhARafBOEBJoxCEICCYMgJJAwCEICCYMgJJAwCEICCYMgJJAwCEICCYMgJJAwCEICCYMgJJAwCEICCYMgJJAwCEICCYMgJJAwCEICCYMgJJAwCEICCYMgJJAwCEICCYMgJJAwCEJC5MEHl9v/lZCsZ0TEpzuc/2kSb/azE4TNdFS34cWe6rEJ47p5QZVfKTuRaHSVoxidZWdZN+/eMRKGW7zY8+ZDboXhtQ0VvqVslLiI0CKiEDuNPofjdxjhr7Ui27yi4tqkrrG2xgjneucZqYtQWITjszxEVbXtRwDZUOXfLC2+i1cc/oMvGHEEJQodNeNJwiCyYi2OfL6h+PetAISRzwOQjXwPnlwR1jXx144rYVg3FXQQhHUxg6CQfQ+KsK6J93ZczxjZmwqyw2g7rAuqmkL1O0jCGk9vbXhKpcLqEpEf4DpD3+4WHAsjUtRXJWiZB3HxcnN7Ui+Q/LzFupoxUBxGgRTXrJGbQPNPLn1W1Xb+XXdPqZQRc5eCuDOGDYkDsbOYGmlVbaMdP7bQI3Xx50kY6WmVly4Vg4TyG+9B5qymHoi4eYmAoFATWb5nDD9460K+DIAbcuWzt4C1H5dImlU1wegP3aP0/nrzTakw3A8BiSMc3LdtPS7potDJJ3Eg6I93nyLRpatmvdTHn6FnYjak723Z8l34ceNTEKv7vijJxO3QVVVVwtNP74bXXjsFp0+f4WXYzmOPfQeWLVvK9ycmPoD29l/Dp5/+h+8jWr1dpnpIS8teWL366zBnTil88sm/oLW1PVnv5Mk/8M908LydO/fC/fd/GXbseAoqK1fB/Pnz4LPPbsObb16A3t6j4kwj1hd7y5ZNJv+np6dhcvIDiMdb+X52Irx+Y+OTUFf3Q1FmJALd3b+CxYu/KvbN1NU9Kb5lw0oUKvEezCn82wg0lQriImJgd3Q8D88+G4dFixaKUg0c9CtXxtkgb4Pm5p/xIG1t/SU/lq3enj0/ZUFdAS+80MHrTU//j9VrEUcBXn75WMY2PT0D7713WZwBTFBz4KWXfsPa/gEXxebNG3mgZiK/KiisxsbtMDMzDa+++ifexrlzo0x8/xZn+GUWjh8fZHZ/Z9pQ3FevXhfnyEGP9a0w8O+pZ2Hk6r1GefkyuHNnmgdxOr29fXxD8G7/xhujyTukVu+OtN66dd/gwYyiwnq9va/weo888k1+/PTpYdOGx2ZmZpIzAtZpbd3P6yNYPjV1i81A1XzfDhQQCun118/y2aG/f4C3g3YOHPitOMsO+9A9f/4vog9n+Xbz5iTvy7FjfxRn5AOq5OfPjq8ZI/29hgw79zD9GTzZz4LwW3D0aA9LW/r5J+7LwPSntbUtGYTZKCsr42kNotVLBa8OziQ4s1y48FdRAvwcnBFqataKEjOPPvptLqRslJaWmlK4bGD6hHdueeqVAoXa1dXOUzvcjhw5mBSvO7RR2b79e3y2uHLlfb5vj6qgtSP34lCcSskdceLetm1bWSrSxVKZ3exu+19oavqROOINFNzDD9fYBjDOJEi6YG7dugVz597Hvpm9x5QHsQpiXG/gegVnlKGh06I0O7imsEtnqqoqYNeuJp5qNTfv4Snb2Ng/eBkeM2N/xbHOqlUrPMwW3oPNHdiOira82VAiDPOsoXco06FsLnZ3J3hw4l323LkRdhefL464o7u7i91Nj/N8HdOZoaFT4ogacLa4dOlvYi8FpkN4F08kDvBFOKZxTmcM5Pr1G+KbnK1b6+D27ds81dLtYpqFZXjMjH2ei7PFxMQ/XcwWRuTjm7+49zXQxbcbnKRGcsyd3rnz53zx/cwzz/P9/ftb+V1cBRj8mHYdP35ClKTA3B3v4ridOfNneOKJLcnZJZPMgdLXQlZgH27cmBB7OhFe5rZ/eH40uhTeeeddUZKdHC0nBaoE6M5O6MJQ1U0zmVZRaPH4c/wJ1EMP1YhSa9KDa+HChezOPMW+pcICZwu8y9rNBLh4vnx5DNauXS1KZKR8npqaghUrysWeU3S/jGHrLIRrazfzz/7+Qf7pBLnlYEYzE1XtOLeTkxkD3TNuavBmDRfluNCurX1clGgLcnyfYVyQI3hXx/cK6tD8feutd1m+v5LPSFagGJcv19ZDRrAsXcB2rFix3NNj4NyLQ0Vbzmxowgipb7ggNm6qUhydlpZfJJ9moW18b4FB//bbF3mZFZcv/50v1FEQWG/HjgbxtCaV3ulPry5evCRKUmBAY9qk9wf38VHthx9+zPfxyVF//yv8eyazfCF/9eo1vi7C9ydYH7c9e37C+qC93Dtx4iTMm4fvZVqS7eDxefPK+DE3+BG4tThCCiIl2PuamjFC6FdjI77ESm1OUhyn6MGCT7Nw8Z1IHOSPTA8fTtimPu3tnfDRRx/Diy8+x+vhE6XOzoPiqMaaNdo7ifPnzbOITlXV1/jCGxfguBjGVArtIjU162wDERfVmPM/8MBiLhDc1q1bw9/ZILhIPny4BxYsWCDa+T1bJyxhZUdcLaDxOqHAtcV+oQU0osrf7Ha0n4QYcT4jm3DyE5FwCKJNfza7ujpY0F/kaw85fn1W0WfnNqxDKohrb4WqtuR2MtcYqgTJUWosh2A/vPcFZwttoRtU4BTLdXaDvzFJIbeROWMgHsZPPmOkE8YdJeg2/NjHurILpcJnOxv6cauBcu6D9VCr6IdbVLVptqPsqVSufjuViSOFOkR1p1T6ljtyM9TYqmxThXlslD6udfLbqXBQEYB6R8LoEPoblmhk/XHfR3mNoPoQxhggKf+VCiO/8BNs6QMRxMCgzXS7YYrDuHlDXlN1H5z652e8jWg25MLwaT9/0qpCRHVg6QRj11ocQfUjDLL9tfNC7pdvZJ3HEAhC8ek2vbbhJBidnOOeIK5KCqf+qh2f7KlUMNexQNA7H8YF0AdUxcA68Vd9n+Seq2onjDEwU+JoLML36y5E3d0uVwMWvDjC61fJvffeI74ShH+sxZEbsXqlZMmSr8CCL5aJXYLId8IR2BdKS0tbFy36EpTNvQ9KS++BSEkEZmdn4fPP0xxQMtOrTBecoqLNIPwO+lrY2c/FWCCq2g1qTHCLwP8BJrmJcKWf+j0AAAAASUVORK5CYII=)"
      ]
    },
    {
      "cell_type": "markdown",
      "metadata": {
        "id": "vI3P65PZvlxk"
      },
      "source": [
        "Test and Train csv files for the BoW dataset are in the format:\n",
        "\n",
        "\n",
        "1.  **Line 1:** Number of Train/Test points, BoW Feature Dimensionality, Number of Labels\n",
        "2.   **Line 2 onwards:** Train/Test data in the format: *Label1,Label2,...,Labeln feature_index1:feature_value1 feature_index2:feature_value2 ... feature_indexm:feature_valuem* (columns are space separated)\n"
      ]
    },
    {
      "cell_type": "markdown",
      "metadata": {
        "id": "QbK4Gi-30AjP"
      },
      "source": [
        "# Loading train and test data"
      ]
    },
    {
      "cell_type": "code",
      "execution_count": null,
      "metadata": {
        "colab": {
          "base_uri": "https://localhost:8080/"
        },
        "id": "Y8d0x9GftLCY",
        "outputId": "7f86e77f-98de-4453-a0e5-40c4815caefc"
      },
      "outputs": [
        {
          "output_type": "stream",
          "name": "stdout",
          "text": [
            "Number of train points: 294805\n",
            "Number of test points: 134835\n",
            "Number of features: 40000\n",
            "Number of labels: 131073\n"
          ]
        }
      ],
      "source": [
        "train_txt = open(\"/content/drive/MyDrive/Colab Notebooks/MLBD Project/train.txt\").read().split(\"\\n\") # split by newlines\n",
        "test_txt = open(\"/content/drive/MyDrive/Colab Notebooks/MLBD Project/test.txt\").read().split(\"\\n\")\n",
        "no_train_pts,no_features,no_labels=[int(i) for i in train_txt[0].split(\" \")]\n",
        "no_test_pts=int(test_txt[0].split(\" \")[0])\n",
        "print(\"Number of train points:\",no_train_pts)\n",
        "print(\"Number of test points:\",no_test_pts)\n",
        "print(\"Number of features:\",no_features)\n",
        "print(\"Number of labels:\",no_labels)"
      ]
    },
    {
      "cell_type": "code",
      "execution_count": null,
      "metadata": {
        "colab": {
          "base_uri": "https://localhost:8080/"
        },
        "id": "0A0zEaAt1reL",
        "outputId": "47aea397-9fed-4659-db9f-8f4d5ea297a4"
      },
      "outputs": [
        {
          "name": "stdout",
          "output_type": "stream",
          "text": [
            "Number of train rows: 294807\n",
            "Number of test rows: 134837\n"
          ]
        }
      ],
      "source": [
        "print(\"Number of train rows:\",len(train_txt))\n",
        "print(\"Number of test rows:\",len(test_txt))"
      ]
    },
    {
      "cell_type": "markdown",
      "metadata": {
        "id": "0WK4LuZd0K5o"
      },
      "source": [
        "We see that the number of rows in train and test csv files are 2 more than the actual number of train and test points"
      ]
    },
    {
      "cell_type": "code",
      "execution_count": null,
      "metadata": {
        "colab": {
          "base_uri": "https://localhost:8080/"
        },
        "id": "oxtkDT0T2Tul",
        "outputId": "c8e07274-3d52-4338-b8b9-1f6b836c5580"
      },
      "outputs": [
        {
          "name": "stdout",
          "output_type": "stream",
          "text": [
            "Index 0 in train_txt: 294805 40000 131073\n",
            "Last index in train_txt: \n",
            "Last index in test_txt: \n",
            "Index 0 in test_txt: 134835 40000 131073\n"
          ]
        }
      ],
      "source": [
        "print(\"Index 0 in train_txt:\",train_txt[0])\n",
        "print(\"Last index in train_txt:\",train_txt[-1])\n",
        "print(\"Last index in test_txt:\",test_txt[-1])\n",
        "print(\"Index 0 in test_txt:\",test_txt[0])"
      ]
    },
    {
      "cell_type": "markdown",
      "metadata": {
        "id": "NbhDCCBW21rQ"
      },
      "source": [
        "First index and last index are not necessary for training and testing, hence we can ignore them while adding the data to the train and test sparse arrays. `lil_matrix` are used for efficient indexing in sparse format which is then converted to `csr_matrix` which is the widely used sparse format."
      ]
    },
    {
      "cell_type": "code",
      "execution_count": null,
      "metadata": {
        "id": "Qj1T2Z0vVW8-"
      },
      "outputs": [],
      "source": [
        "def convert_to_csr(txt,no_pts,no_features,no_labels):\n",
        "  x=csr_matrix((no_pts,no_features),dtype=\"float32\").tolil()\n",
        "  y=csr_matrix((no_pts,no_labels)).tolil()\n",
        "  y_fast=[]\n",
        "  for row_no in range(1,no_pts+1):\n",
        "    row=txt[row_no].split(\" \")\n",
        "    y_row=[int(lbl) for lbl in row[0].split(\",\")]\n",
        "    for lbl in y_row:\n",
        "     y[row_no-1,lbl]=1\n",
        "    y_fast.append(y_row)\n",
        "    row_len=len(row)\n",
        "    if(row_len<2 or len(row[1])==0): #No non-zero feature values\n",
        "      continue\n",
        "    for i in range(1,row_len):\n",
        "      idx,val=row[i].split(\":\")\n",
        "      idx=int(idx)\n",
        "      val=float(val)\n",
        "      x[row_no-1,idx]=val\n",
        "  return((x.tocsr(),y.tocsr(),y_fast))"
      ]
    },
    {
      "cell_type": "markdown",
      "source": [
        "y_train_sparse is y_train in csr format and y_train is a 2D nested list"
      ],
      "metadata": {
        "id": "06V8ULBr0nBA"
      }
    },
    {
      "cell_type": "code",
      "execution_count": null,
      "metadata": {
        "id": "MoYaQP80WDfi"
      },
      "outputs": [],
      "source": [
        "x_train,y_train_sparse,y_train=convert_to_csr(train_txt,no_train_pts,no_features,no_labels)\n",
        "del(train_txt)"
      ]
    },
    {
      "cell_type": "code",
      "execution_count": null,
      "metadata": {
        "id": "bRo9Nr3tcn_W"
      },
      "outputs": [],
      "source": [
        "x_test,y_test_sparse,y_test=convert_to_csr(test_txt,no_test_pts,no_features,no_labels)\n",
        "del(test_txt)"
      ]
    },
    {
      "cell_type": "markdown",
      "metadata": {
        "id": "And3V9aYj03F"
      },
      "source": [
        "# Training a FastXML model"
      ]
    },
    {
      "cell_type": "code",
      "execution_count": null,
      "metadata": {
        "colab": {
          "base_uri": "https://localhost:8080/"
        },
        "id": "uKlP62OoSE6l",
        "outputId": "5555a508-ef8a-4d7b-fc3a-693cc5ecda09"
      },
      "outputs": [
        {
          "output_type": "stream",
          "name": "stdout",
          "text": [
            "Looking in indexes: https://pypi.org/simple, https://us-python.pkg.dev/colab-wheels/public/simple/\n",
            "Collecting git+https://github.com/Refefer/fastxml.git\n",
            "  Cloning https://github.com/Refefer/fastxml.git to /tmp/pip-req-build-23x39byx\n",
            "  Running command git clone --filter=blob:none --quiet https://github.com/Refefer/fastxml.git /tmp/pip-req-build-23x39byx\n",
            "  Resolved https://github.com/Refefer/fastxml.git to commit 03440e432e2ce9f66df286581e4d50b99ad209ef\n",
            "  Preparing metadata (setup.py) ... \u001b[?25l\u001b[?25hdone\n",
            "Requirement already satisfied: numpy>=1.8.1 in /usr/local/lib/python3.9/dist-packages (from fastxml==2.0.0) (1.22.4)\n",
            "Requirement already satisfied: scipy>=0.13.3 in /usr/local/lib/python3.9/dist-packages (from fastxml==2.0.0) (1.10.1)\n",
            "Requirement already satisfied: scikit-learn>=0.17 in /usr/local/lib/python3.9/dist-packages (from fastxml==2.0.0) (1.2.2)\n",
            "Requirement already satisfied: Cython>=0.23.4 in /usr/local/lib/python3.9/dist-packages (from fastxml==2.0.0) (0.29.34)\n",
            "Requirement already satisfied: future>=0.16.0 in /usr/local/lib/python3.9/dist-packages (from fastxml==2.0.0) (0.18.3)\n",
            "Requirement already satisfied: threadpoolctl>=2.0.0 in /usr/local/lib/python3.9/dist-packages (from scikit-learn>=0.17->fastxml==2.0.0) (3.1.0)\n",
            "Requirement already satisfied: joblib>=1.1.1 in /usr/local/lib/python3.9/dist-packages (from scikit-learn>=0.17->fastxml==2.0.0) (1.2.0)\n",
            "Building wheels for collected packages: fastxml\n",
            "  Building wheel for fastxml (setup.py) ... \u001b[?25l\u001b[?25hdone\n",
            "  Created wheel for fastxml: filename=fastxml-2.0.0-cp39-cp39-linux_x86_64.whl size=1798742 sha256=9266a7de3e900ec1ec41e74f56a7a46180995f8d573a12d4891683e1ed1091c8\n",
            "  Stored in directory: /tmp/pip-ephem-wheel-cache-t1wqpuq3/wheels/4f/07/1b/15d1fb8062971f4f992573646918582a1db6d748f3a8df95a2\n",
            "Successfully built fastxml\n",
            "Installing collected packages: fastxml\n",
            "Successfully installed fastxml-2.0.0\n"
          ]
        }
      ],
      "source": [
        "!pip install git+https://github.com/Refefer/fastxml.git"
      ]
    },
    {
      "cell_type": "code",
      "execution_count": null,
      "metadata": {
        "id": "MISypvYy9wp5"
      },
      "outputs": [],
      "source": [
        "from fastxml import Trainer, Inferencer"
      ]
    },
    {
      "cell_type": "markdown",
      "source": [
        "Converting train and test data to format accepted by fastXML"
      ],
      "metadata": {
        "id": "YUDMI2lDS1wf"
      }
    },
    {
      "cell_type": "code",
      "execution_count": null,
      "metadata": {
        "id": "wdSJ_e__GPAj"
      },
      "outputs": [],
      "source": [
        "x_train_csr_list = [x_train.getrow(i) for i in range(x_train.shape[0])]"
      ]
    },
    {
      "cell_type": "code",
      "execution_count": null,
      "metadata": {
        "id": "5YilasKAMPJX"
      },
      "outputs": [],
      "source": [
        "x_test_csr_list = [x_test.getrow(i) for i in range(x_test.shape[0])]"
      ]
    },
    {
      "cell_type": "markdown",
      "source": [
        "Precision@k implementation"
      ],
      "metadata": {
        "id": "i0T-yMkKP150"
      }
    },
    {
      "cell_type": "markdown",
      "source": [
        "**NOTE:** This returns values from 0 to 1 with 0 being the lowest and 1 being the highest average precision@k value"
      ],
      "metadata": {
        "id": "f7r5JGb6VJXv"
      }
    },
    {
      "cell_type": "code",
      "source": [
        "from typing import List, Set\n",
        "from collections import OrderedDict\n",
        "\n",
        "def precision_at_k(max_k: int, true_labels: List[List[int]], predicted_labels: List[OrderedDict[int, float]]) -> float:\n",
        "  assert len(true_labels) == len(predicted_labels)\n",
        "  ps = [0.0] * max_k\n",
        "  for truth, predictions in zip(true_labels, predicted_labels):\n",
        "    n_correct = 0\n",
        "    for i, (label, score) in enumerate(predictions.items()):\n",
        "      if i >= max_k:\n",
        "        break\n",
        "      if label in truth:\n",
        "        n_correct += 1\n",
        "      ps[i] += n_correct / (i + 1)\n",
        "  ps = [p / len(predicted_labels) for p in ps]\n",
        "  return sum(ps) / len(ps)"
      ],
      "metadata": {
        "id": "W4QHmrumPCUo"
      },
      "execution_count": null,
      "outputs": []
    },
    {
      "cell_type": "code",
      "source": [
        "from sklearn.preprocessing import Binarizer\n",
        "from sklearn.metrics import hamming_loss"
      ],
      "metadata": {
        "id": "YCYPqlMhQbiY"
      },
      "execution_count": null,
      "outputs": []
    },
    {
      "cell_type": "markdown",
      "source": [
        "FastXML with n_trees=1\n",
        "\n",
        "\n",
        "*   Training time is around 4 min\n",
        "*   Prediction time on test data is around 1 min\n",
        "*   Model size: 60 MB\n",
        "\n"
      ],
      "metadata": {
        "id": "HFszqlFjPCUg"
      }
    },
    {
      "cell_type": "code",
      "execution_count": null,
      "metadata": {
        "id": "zZUUQUALPCUn"
      },
      "outputs": [],
      "source": [
        "trainer = Trainer(n_trees=1, n_jobs=-1)\n",
        "trainer.fit(x_train_csr_list, y_train)"
      ]
    },
    {
      "cell_type": "code",
      "execution_count": null,
      "metadata": {
        "id": "m9obSUWoPCUn"
      },
      "outputs": [],
      "source": [
        "trainer.save(\"trainer\")"
      ]
    },
    {
      "cell_type": "code",
      "source": [
        "print(\"Model Size:\")\n",
        "!du -sh trainer"
      ],
      "metadata": {
        "colab": {
          "base_uri": "https://localhost:8080/"
        },
        "id": "sCgw-kmDHPmm",
        "outputId": "27ca6269-6af6-4ef9-df9e-7848916acfdb"
      },
      "execution_count": null,
      "outputs": [
        {
          "output_type": "stream",
          "name": "stdout",
          "text": [
            "Model Size:\n",
            "60M\ttrainer\n"
          ]
        }
      ]
    },
    {
      "cell_type": "code",
      "execution_count": null,
      "metadata": {
        "id": "BrlVOJvnPCUn"
      },
      "outputs": [],
      "source": [
        "inferencer = Inferencer(\"trainer\")\n",
        "y_pred_score = inferencer.predict(x_test) #Returns prediction scores/probabilities in sparse format"
      ]
    },
    {
      "cell_type": "code",
      "source": [
        "y_pred_dict=inferencer.predict(x_test,fmt='dict') #Returns List[OrderedDict] where prediction scores/probabilities are sorted in decreasing order"
      ],
      "metadata": {
        "id": "uU8R03U-PCUn"
      },
      "execution_count": null,
      "outputs": []
    },
    {
      "cell_type": "code",
      "execution_count": null,
      "metadata": {
        "id": "1bJPsDjVPCUn"
      },
      "outputs": [],
      "source": [
        "bin=Binarizer(threshold=0.5)\n",
        "#Binarizing the predictions. If probability of a label > 0.5, then putting 1 i.e., the label is chosen for the datapoint\n",
        "y_pred=bin.fit_transform(y_pred_score)"
      ]
    },
    {
      "cell_type": "code",
      "execution_count": null,
      "metadata": {
        "colab": {
          "base_uri": "https://localhost:8080/"
        },
        "outputId": "39b11391-d0e9-4805-d4dd-843430669ecb",
        "id": "M5_ZSczuPCUn"
      },
      "outputs": [
        {
          "output_type": "stream",
          "name": "stdout",
          "text": [
            "Hamming loss: 0.0000231\n"
          ]
        }
      ],
      "source": [
        "print(\"Hamming loss:\",'{:.7f}'.format(hamming_loss(y_test_sparse,y_pred)))"
      ]
    },
    {
      "cell_type": "code",
      "source": [
        "print(\"Average precision@1=\",precision_at_k(1,y_test,y_pred_dict))"
      ],
      "metadata": {
        "colab": {
          "base_uri": "https://localhost:8080/"
        },
        "outputId": "b6ac304e-be55-4fff-871d-53b405e42231",
        "id": "xcnhEY0hPCUo"
      },
      "execution_count": null,
      "outputs": [
        {
          "output_type": "stream",
          "name": "stdout",
          "text": [
            "Average precision@1= 0.10141283791300479\n"
          ]
        }
      ]
    },
    {
      "cell_type": "code",
      "source": [
        "print(\"Average precision@3=\",precision_at_k(3,y_test,y_pred_dict))"
      ],
      "metadata": {
        "colab": {
          "base_uri": "https://localhost:8080/"
        },
        "outputId": "2949fc1a-9e83-4f7a-b772-2f5032d2a256",
        "id": "KOOdQ3TpPCUo"
      },
      "execution_count": null,
      "outputs": [
        {
          "output_type": "stream",
          "name": "stdout",
          "text": [
            "Average precision@3= 0.08397217998953373\n"
          ]
        }
      ]
    },
    {
      "cell_type": "code",
      "source": [
        "print(\"Average precision@5=\",precision_at_k(5,y_test,y_pred_dict))"
      ],
      "metadata": {
        "colab": {
          "base_uri": "https://localhost:8080/"
        },
        "outputId": "a016792a-2bb1-46fa-a167-4c5026aa9c4c",
        "id": "wdAb-kaePCUo"
      },
      "execution_count": null,
      "outputs": [
        {
          "output_type": "stream",
          "name": "stdout",
          "text": [
            "Average precision@5= 0.06858466520809228\n"
          ]
        }
      ]
    },
    {
      "cell_type": "markdown",
      "source": [
        "FastXML with n_trees=4\n",
        "\n",
        "\n",
        "*   Training time is around 19 min\n",
        "*   Prediction time on test data is around 2 min\n",
        "*   Model size: 238 MB\n",
        "\n"
      ],
      "metadata": {
        "id": "2fnRt8EnPGMu"
      }
    },
    {
      "cell_type": "code",
      "execution_count": null,
      "metadata": {
        "id": "cvuOtTp8PGMv"
      },
      "outputs": [],
      "source": [
        "trainer = Trainer(n_trees=4, n_jobs=-1)\n",
        "trainer.fit(x_train_csr_list, y_train)"
      ]
    },
    {
      "cell_type": "code",
      "execution_count": null,
      "metadata": {
        "id": "WPjbMQ24PGMw"
      },
      "outputs": [],
      "source": [
        "trainer.save(\"trainer\")"
      ]
    },
    {
      "cell_type": "code",
      "source": [
        "print(\"Model Size:\")\n",
        "!du -sh trainer"
      ],
      "metadata": {
        "colab": {
          "base_uri": "https://localhost:8080/"
        },
        "outputId": "4ed7a7bd-f5d1-4213-f4eb-f7f34e1fe48f",
        "id": "pDygrnV9H5-x"
      },
      "execution_count": null,
      "outputs": [
        {
          "output_type": "stream",
          "name": "stdout",
          "text": [
            "Model Size:\n",
            "238M\ttrainer\n"
          ]
        }
      ]
    },
    {
      "cell_type": "code",
      "execution_count": null,
      "metadata": {
        "id": "NLEqQ3smPGMw"
      },
      "outputs": [],
      "source": [
        "inferencer = Inferencer(\"trainer\")\n",
        "y_pred_score = inferencer.predict(x_test)"
      ]
    },
    {
      "cell_type": "code",
      "source": [
        "y_pred_dict=inferencer.predict(x_test,fmt='dict')"
      ],
      "metadata": {
        "id": "Fp7_wR7PPGMw"
      },
      "execution_count": null,
      "outputs": []
    },
    {
      "cell_type": "code",
      "execution_count": null,
      "metadata": {
        "id": "2nv4xZxFPGMw"
      },
      "outputs": [],
      "source": [
        "bin=Binarizer(threshold=0.5)\n",
        "#Binarizing the predictions. If probability of a label > 0.5, then putting 1 i.e., the label is chosen for the datapoint\n",
        "y_pred=bin.fit_transform(y_pred_score)"
      ]
    },
    {
      "cell_type": "code",
      "execution_count": null,
      "metadata": {
        "colab": {
          "base_uri": "https://localhost:8080/"
        },
        "outputId": "6cef17c0-c5a5-498d-bf50-e38ea7100121",
        "id": "zRuK19xhPGMx"
      },
      "outputs": [
        {
          "output_type": "stream",
          "name": "stdout",
          "text": [
            "Hamming loss: 0.0000156\n"
          ]
        }
      ],
      "source": [
        "print(\"Hamming loss:\",'{:.7f}'.format(hamming_loss(y_test_sparse,y_pred)))"
      ]
    },
    {
      "cell_type": "code",
      "source": [
        "print(\"Average precision@1=\",precision_at_k(1,y_test,y_pred_dict))"
      ],
      "metadata": {
        "colab": {
          "base_uri": "https://localhost:8080/"
        },
        "outputId": "49530eee-faf3-4c24-a9b3-5ee4f098ffb5",
        "id": "5eQp4nrGPGMy"
      },
      "execution_count": null,
      "outputs": [
        {
          "output_type": "stream",
          "name": "stdout",
          "text": [
            "Average precision@1= 0.13546927726480512\n"
          ]
        }
      ]
    },
    {
      "cell_type": "code",
      "source": [
        "print(\"Average precision@3=\",precision_at_k(3,y_test,y_pred_dict))"
      ],
      "metadata": {
        "colab": {
          "base_uri": "https://localhost:8080/"
        },
        "outputId": "112e0e3e-7a42-4104-84f5-4cbd848a96ec",
        "id": "1OiGSRANPGMy"
      },
      "execution_count": null,
      "outputs": [
        {
          "output_type": "stream",
          "name": "stdout",
          "text": [
            "Average precision@3= 0.1135165201913471\n"
          ]
        }
      ]
    },
    {
      "cell_type": "code",
      "source": [
        "print(\"Average precision@5=\",precision_at_k(5,y_test,y_pred_dict))"
      ],
      "metadata": {
        "colab": {
          "base_uri": "https://localhost:8080/"
        },
        "outputId": "2ec563bf-c0a8-4962-fb08-254ec217be53",
        "id": "DQgrPuXPPGMz"
      },
      "execution_count": null,
      "outputs": [
        {
          "output_type": "stream",
          "name": "stdout",
          "text": [
            "Average precision@5= 0.09781087996440016\n"
          ]
        }
      ]
    },
    {
      "cell_type": "markdown",
      "source": [
        "FastXML with n_trees=8\n",
        "\n",
        "\n",
        "*   Training time is around 39 min\n",
        "*   Prediction time on test data is around 3 min\n",
        "*   Model size: 475 MB\n",
        "\n"
      ],
      "metadata": {
        "id": "ytOc8iHIPHgA"
      }
    },
    {
      "cell_type": "code",
      "execution_count": null,
      "metadata": {
        "id": "OXlewujKPHgA"
      },
      "outputs": [],
      "source": [
        "trainer = Trainer(n_trees=8, n_jobs=-1)\n",
        "trainer.fit(x_train_csr_list, y_train)"
      ]
    },
    {
      "cell_type": "code",
      "execution_count": null,
      "metadata": {
        "id": "7z3KxhQ5PHgA"
      },
      "outputs": [],
      "source": [
        "trainer.save(\"trainer\")"
      ]
    },
    {
      "cell_type": "code",
      "source": [
        "print(\"Model Size:\")\n",
        "!du -sh trainer"
      ],
      "metadata": {
        "id": "TRa4f2CpH-NZ",
        "colab": {
          "base_uri": "https://localhost:8080/"
        },
        "outputId": "0f1b219c-8759-45e8-9174-8be1db65f414"
      },
      "execution_count": null,
      "outputs": [
        {
          "output_type": "stream",
          "name": "stdout",
          "text": [
            "Model Size:\n",
            "475M\ttrainer\n"
          ]
        }
      ]
    },
    {
      "cell_type": "code",
      "execution_count": null,
      "metadata": {
        "id": "cRPd9-MZPHgA"
      },
      "outputs": [],
      "source": [
        "inferencer = Inferencer(\"trainer\")\n",
        "y_pred_score = inferencer.predict(x_test)"
      ]
    },
    {
      "cell_type": "code",
      "source": [
        "y_pred_dict=inferencer.predict(x_test,fmt='dict')"
      ],
      "metadata": {
        "id": "a-6mB-ZrPHgA"
      },
      "execution_count": null,
      "outputs": []
    },
    {
      "cell_type": "code",
      "execution_count": null,
      "metadata": {
        "id": "8HC_RZqdPHgA"
      },
      "outputs": [],
      "source": [
        "bin=Binarizer(threshold=0.5)\n",
        "#Binarizing the probabilities to get the predictions. If probability of a label > 0.5, then putting 1 i.e., the label is chosen for the datapoint\n",
        "y_pred=bin.fit_transform(y_pred_score)"
      ]
    },
    {
      "cell_type": "code",
      "execution_count": null,
      "metadata": {
        "colab": {
          "base_uri": "https://localhost:8080/"
        },
        "outputId": "951339f9-e60a-4dc0-f593-652f29ddfff7",
        "id": "qihBSkmAPHgB"
      },
      "outputs": [
        {
          "output_type": "stream",
          "name": "stdout",
          "text": [
            "Hamming loss: 0.0000155\n"
          ]
        }
      ],
      "source": [
        "print(\"Hamming loss:\",'{:.7f}'.format(hamming_loss(y_test_sparse,y_pred)))"
      ]
    },
    {
      "cell_type": "code",
      "source": [
        "print(\"Average precision@1=\",precision_at_k(1,y_test,y_pred_dict))"
      ],
      "metadata": {
        "colab": {
          "base_uri": "https://localhost:8080/"
        },
        "outputId": "c463ee0b-5b10-4acb-e10a-cfd13b36698f",
        "id": "41FLA_o0PHgB"
      },
      "execution_count": null,
      "outputs": [
        {
          "output_type": "stream",
          "name": "stdout",
          "text": [
            "Average precision@1= 0.16649979604702042\n"
          ]
        }
      ]
    },
    {
      "cell_type": "code",
      "source": [
        "print(\"Average precision@3=\",precision_at_k(3,y_test,y_pred_dict))"
      ],
      "metadata": {
        "colab": {
          "base_uri": "https://localhost:8080/"
        },
        "outputId": "962b5350-3452-4922-a601-a9ae2af9bb46",
        "id": "dJAc3gIePHgB"
      },
      "execution_count": null,
      "outputs": [
        {
          "output_type": "stream",
          "name": "stdout",
          "text": [
            "Average precision@3= 0.13841485272123163\n"
          ]
        }
      ]
    },
    {
      "cell_type": "code",
      "source": [
        "print(\"Average precision@5=\",precision_at_k(5,y_test,y_pred_dict))"
      ],
      "metadata": {
        "colab": {
          "base_uri": "https://localhost:8080/"
        },
        "outputId": "eba9b4ca-b446-43a3-aed1-f9bd95f62c6c",
        "id": "C05adErePHgB"
      },
      "execution_count": null,
      "outputs": [
        {
          "output_type": "stream",
          "name": "stdout",
          "text": [
            "Average precision@5= 0.11846501279341715\n"
          ]
        }
      ]
    },
    {
      "cell_type": "markdown",
      "source": [
        "FastXML with n_trees=16\n",
        "\n",
        "\n",
        "*   Training time is around 1 hour\n",
        "*   Prediction time on test data is around 6 min\n",
        "*   Model size: 949 MB\n",
        "\n"
      ],
      "metadata": {
        "id": "GGthqKqgUW2S"
      }
    },
    {
      "cell_type": "code",
      "execution_count": null,
      "metadata": {
        "id": "BIGSiy8z9fm3"
      },
      "outputs": [],
      "source": [
        "trainer = Trainer(n_trees=16, n_jobs=-1)\n",
        "trainer.fit(x_train_csr_list, y_train)"
      ]
    },
    {
      "cell_type": "code",
      "execution_count": null,
      "metadata": {
        "id": "FCjf3Y1COB1E"
      },
      "outputs": [],
      "source": [
        "trainer.save(\"trainer\")"
      ]
    },
    {
      "cell_type": "code",
      "source": [
        "print(\"Model Size:\")\n",
        "!du -sh trainer"
      ],
      "metadata": {
        "id": "M90fBbl_IBaQ",
        "colab": {
          "base_uri": "https://localhost:8080/"
        },
        "outputId": "3f461c14-2df2-426a-e29f-2fc91e93c8e4"
      },
      "execution_count": null,
      "outputs": [
        {
          "output_type": "stream",
          "name": "stdout",
          "text": [
            "Model Size:\n",
            "949M\ttrainer\n"
          ]
        }
      ]
    },
    {
      "cell_type": "code",
      "execution_count": null,
      "metadata": {
        "id": "0jeTfB2cEqrS"
      },
      "outputs": [],
      "source": [
        "inferencer = Inferencer(\"trainer\")\n",
        "y_pred_score = inferencer.predict(x_test)"
      ]
    },
    {
      "cell_type": "code",
      "source": [
        "y_pred_dict=inferencer.predict(x_test,fmt='dict')"
      ],
      "metadata": {
        "id": "HRAPkKv1v4Xr"
      },
      "execution_count": null,
      "outputs": []
    },
    {
      "cell_type": "code",
      "execution_count": null,
      "metadata": {
        "id": "MPvtCB5nuDET"
      },
      "outputs": [],
      "source": [
        "bin=Binarizer(threshold=0.5)\n",
        "#Binarizing the predictions. If probability of a label > 0.5, then putting 1 i.e., the label is chosen for the datapoint\n",
        "y_pred=bin.fit_transform(y_pred_score)"
      ]
    },
    {
      "cell_type": "code",
      "execution_count": null,
      "metadata": {
        "colab": {
          "base_uri": "https://localhost:8080/"
        },
        "id": "bwbh7AIkvT7I",
        "outputId": "2c97dd6d-3a42-4fd1-a6d8-ade395784657"
      },
      "outputs": [
        {
          "output_type": "stream",
          "name": "stdout",
          "text": [
            "Hamming loss: 0.0000155\n"
          ]
        }
      ],
      "source": [
        "print(\"Hamming loss:\",'{:.7f}'.format(hamming_loss(y_test_sparse,y_pred)))"
      ]
    },
    {
      "cell_type": "code",
      "source": [
        "print(\"Average precision@1=\",precision_at_k(1,y_test,y_pred_dict))"
      ],
      "metadata": {
        "colab": {
          "base_uri": "https://localhost:8080/"
        },
        "id": "x3jNcb3Yvlji",
        "outputId": "48091900-b052-4005-e8fa-4f84e55cd3f8"
      },
      "execution_count": null,
      "outputs": [
        {
          "output_type": "stream",
          "name": "stdout",
          "text": [
            "Average precision@1= 0.19780472429265397\n"
          ]
        }
      ]
    },
    {
      "cell_type": "code",
      "source": [
        "print(\"Average precision@3=\",precision_at_k(3,y_test,y_pred_dict))"
      ],
      "metadata": {
        "colab": {
          "base_uri": "https://localhost:8080/"
        },
        "outputId": "0ca4f028-2883-4fe2-b2b2-b9519e55e1dd",
        "id": "aDC36q71XGi4"
      },
      "execution_count": null,
      "outputs": [
        {
          "output_type": "stream",
          "name": "stdout",
          "text": [
            "Average precision@3= 0.16498683576223103\n"
          ]
        }
      ]
    },
    {
      "cell_type": "code",
      "source": [
        "print(\"Average precision@5=\",precision_at_k(5,y_test,y_pred_dict))"
      ],
      "metadata": {
        "colab": {
          "base_uri": "https://localhost:8080/"
        },
        "outputId": "7096e2e0-932e-4304-ef38-63905862a844",
        "id": "d8dovQwgXGq8"
      },
      "execution_count": null,
      "outputs": [
        {
          "output_type": "stream",
          "name": "stdout",
          "text": [
            "Average precision@5= 0.1414422071420673\n"
          ]
        }
      ]
    },
    {
      "cell_type": "markdown",
      "metadata": {
        "id": "GHlYC7Q9zLmS"
      },
      "source": [
        "# Dimensionality Reduction n_components=100"
      ]
    },
    {
      "cell_type": "code",
      "execution_count": null,
      "metadata": {
        "id": "hjTbLUM2zPen"
      },
      "outputs": [],
      "source": [
        "from sklearn.decomposition import TruncatedSVD\n",
        "tsvd = TruncatedSVD(n_components=100)\n",
        "tsvd=tsvd.fit(x_train)"
      ]
    },
    {
      "cell_type": "code",
      "source": [
        "x_train = csr_matrix(tsvd.transform(x_train))"
      ],
      "metadata": {
        "id": "UOmCZkX3lkEl"
      },
      "execution_count": null,
      "outputs": []
    },
    {
      "cell_type": "code",
      "source": [
        "x_test = csr_matrix(tsvd.transform(x_test))"
      ],
      "metadata": {
        "id": "URfIaNhsllxk"
      },
      "execution_count": null,
      "outputs": []
    },
    {
      "cell_type": "markdown",
      "metadata": {
        "id": "8WXvRqZuRcZv"
      },
      "source": [
        "# Training a FastXML model on Dimensionally Reduced data with n_components=100"
      ]
    },
    {
      "cell_type": "markdown",
      "source": [
        "Converting train and test data to format accepted by fastXML"
      ],
      "metadata": {
        "id": "hq0mIj75fClE"
      }
    },
    {
      "cell_type": "code",
      "execution_count": null,
      "metadata": {
        "id": "0mcfXILyfClK"
      },
      "outputs": [],
      "source": [
        "x_train_csr_list = [x_train.getrow(i) for i in range(x_train.shape[0])]"
      ]
    },
    {
      "cell_type": "code",
      "execution_count": null,
      "metadata": {
        "id": "eVhNDvOwfClK"
      },
      "outputs": [],
      "source": [
        "x_test_csr_list = [x_test.getrow(i) for i in range(x_test.shape[0])]"
      ]
    },
    {
      "cell_type": "markdown",
      "source": [
        "FastXML with n_trees=1\n",
        "\n",
        "\n",
        "*   Training time is around 2 min\n",
        "*   Prediction time on test data is around 0.5 min\n",
        "*   Model size: 37 MB\n",
        "\n"
      ],
      "metadata": {
        "id": "apqeBKiVRcZ2"
      }
    },
    {
      "cell_type": "code",
      "execution_count": null,
      "metadata": {
        "id": "-K39wtDNRcZ2"
      },
      "outputs": [],
      "source": [
        "trainer = Trainer(n_trees=1, n_jobs=-1)\n",
        "trainer.fit(x_train_csr_list, y_train)"
      ]
    },
    {
      "cell_type": "code",
      "execution_count": null,
      "metadata": {
        "id": "Ql5qNDJBRcZ3"
      },
      "outputs": [],
      "source": [
        "trainer.save(\"trainer\")"
      ]
    },
    {
      "cell_type": "code",
      "source": [
        "print(\"Model Size:\")\n",
        "!du -sh trainer"
      ],
      "metadata": {
        "colab": {
          "base_uri": "https://localhost:8080/"
        },
        "outputId": "de4e78d8-fbe8-48b4-8601-9b15098480b5",
        "id": "Qp6fw0QzvNbo"
      },
      "execution_count": null,
      "outputs": [
        {
          "output_type": "stream",
          "name": "stdout",
          "text": [
            "Model Size:\n",
            "37M\ttrainer\n"
          ]
        }
      ]
    },
    {
      "cell_type": "code",
      "execution_count": null,
      "metadata": {
        "id": "-aMXYQqxRcZ3"
      },
      "outputs": [],
      "source": [
        "inferencer = Inferencer(\"trainer\")\n",
        "y_pred_score = inferencer.predict(x_test)"
      ]
    },
    {
      "cell_type": "code",
      "source": [
        "y_pred_dict=inferencer.predict(x_test,fmt='dict')"
      ],
      "metadata": {
        "id": "Tewt-FMtRcZ3"
      },
      "execution_count": null,
      "outputs": []
    },
    {
      "cell_type": "code",
      "execution_count": null,
      "metadata": {
        "id": "tsXhkcADRcZ3"
      },
      "outputs": [],
      "source": [
        "bin=Binarizer(threshold=0.5)\n",
        "#Binarizing the predictions. If probability of a label > 0.5, then putting 1 i.e., the label is chosen for the datapoint\n",
        "y_pred=bin.fit_transform(y_pred_score)"
      ]
    },
    {
      "cell_type": "code",
      "execution_count": null,
      "metadata": {
        "colab": {
          "base_uri": "https://localhost:8080/"
        },
        "id": "rkoVCb4kRcZ3",
        "outputId": "96164623-0235-4e04-f2eb-356a3dbad688"
      },
      "outputs": [
        {
          "output_type": "stream",
          "name": "stdout",
          "text": [
            "Hamming loss: 0.0000249\n"
          ]
        }
      ],
      "source": [
        "print(\"Hamming loss:\",'{:.7f}'.format(hamming_loss(y_test_sparse,y_pred)))"
      ]
    },
    {
      "cell_type": "code",
      "source": [
        "print(\"Average precision@1=\",precision_at_k(1,y_test,y_pred_dict))"
      ],
      "metadata": {
        "colab": {
          "base_uri": "https://localhost:8080/"
        },
        "outputId": "597b21a6-1d4b-463e-bd7b-3bfed444e881",
        "id": "BO-LuQvtRcZ3"
      },
      "execution_count": null,
      "outputs": [
        {
          "output_type": "stream",
          "name": "stdout",
          "text": [
            "Average precision@1= 0.018734008232283904\n"
          ]
        }
      ]
    },
    {
      "cell_type": "code",
      "source": [
        "print(\"Average precision@3=\",precision_at_k(3,y_test,y_pred_dict))"
      ],
      "metadata": {
        "colab": {
          "base_uri": "https://localhost:8080/"
        },
        "outputId": "2ec60bfa-b01f-4ff6-ad8e-c122fc032ef3",
        "id": "UWSMTfGORcZ3"
      },
      "execution_count": null,
      "outputs": [
        {
          "output_type": "stream",
          "name": "stdout",
          "text": [
            "Average precision@3= 0.015996918043864317\n"
          ]
        }
      ]
    },
    {
      "cell_type": "code",
      "source": [
        "print(\"Average precision@5=\",precision_at_k(5,y_test,y_pred_dict))"
      ],
      "metadata": {
        "colab": {
          "base_uri": "https://localhost:8080/"
        },
        "outputId": "0238b7ca-86f0-486d-bd88-5a9ab7c1dcff",
        "id": "rq303bDuRcZ3"
      },
      "execution_count": null,
      "outputs": [
        {
          "output_type": "stream",
          "name": "stdout",
          "text": [
            "Average precision@5= 0.012356114263111713\n"
          ]
        }
      ]
    },
    {
      "cell_type": "markdown",
      "source": [
        "FastXML with n_trees=4\n",
        "\n",
        "\n",
        "*   Training time is around 8 min\n",
        "*   Prediction time on test data is around 30-40 sec\n",
        "*   Model size: 147 MB\n",
        "\n"
      ],
      "metadata": {
        "id": "4v9QyrN4RcZ4"
      }
    },
    {
      "cell_type": "code",
      "execution_count": null,
      "metadata": {
        "id": "T2TKoyh7RcZ4"
      },
      "outputs": [],
      "source": [
        "trainer = Trainer(n_trees=4, n_jobs=-1)\n",
        "trainer.fit(x_train_csr_list, y_train)"
      ]
    },
    {
      "cell_type": "code",
      "execution_count": null,
      "metadata": {
        "id": "2yyIT-ueRcZ4"
      },
      "outputs": [],
      "source": [
        "trainer.save(\"trainer\")"
      ]
    },
    {
      "cell_type": "code",
      "source": [
        "print(\"Model Size:\")\n",
        "!du -sh trainer"
      ],
      "metadata": {
        "colab": {
          "base_uri": "https://localhost:8080/"
        },
        "outputId": "0601ba88-e765-40cc-876a-5d0493cea0f4",
        "id": "rxZ8WMUivOPD"
      },
      "execution_count": null,
      "outputs": [
        {
          "output_type": "stream",
          "name": "stdout",
          "text": [
            "Model Size:\n",
            "147M\ttrainer\n"
          ]
        }
      ]
    },
    {
      "cell_type": "code",
      "execution_count": null,
      "metadata": {
        "id": "LXZBMwa4RcZ4"
      },
      "outputs": [],
      "source": [
        "inferencer = Inferencer(\"trainer\")\n",
        "y_pred_score = inferencer.predict(x_test)"
      ]
    },
    {
      "cell_type": "code",
      "source": [
        "y_pred_dict=inferencer.predict(x_test,fmt='dict')"
      ],
      "metadata": {
        "id": "Kpb-N1zERcZ4"
      },
      "execution_count": null,
      "outputs": []
    },
    {
      "cell_type": "code",
      "execution_count": null,
      "metadata": {
        "id": "sov-2SExRcZ4"
      },
      "outputs": [],
      "source": [
        "bin=Binarizer(threshold=0.5)\n",
        "#Binarizing the predictions. If probability of a label > 0.5, then putting 1 i.e., the label is chosen for the datapoint\n",
        "y_pred=bin.fit_transform(y_pred_score)"
      ]
    },
    {
      "cell_type": "code",
      "execution_count": null,
      "metadata": {
        "colab": {
          "base_uri": "https://localhost:8080/"
        },
        "outputId": "49a89e2f-0c0b-43a9-d818-b9116da64c36",
        "id": "kFXPBFrFRcZ6"
      },
      "outputs": [
        {
          "output_type": "stream",
          "name": "stdout",
          "text": [
            "Hamming loss: 0.0000160\n"
          ]
        }
      ],
      "source": [
        "print(\"Hamming loss:\",'{:.7f}'.format(hamming_loss(y_test_sparse,y_pred)))"
      ]
    },
    {
      "cell_type": "code",
      "source": [
        "print(\"Average precision@1=\",precision_at_k(1,y_test,y_pred_dict))"
      ],
      "metadata": {
        "colab": {
          "base_uri": "https://localhost:8080/"
        },
        "outputId": "f7670aa1-2221-4276-ca39-62ca6d8d249c",
        "id": "WAGA9L9uRcZ6"
      },
      "execution_count": null,
      "outputs": [
        {
          "output_type": "stream",
          "name": "stdout",
          "text": [
            "Average precision@1= 0.021159194571142508\n"
          ]
        }
      ]
    },
    {
      "cell_type": "code",
      "source": [
        "print(\"Average precision@3=\",precision_at_k(3,y_test,y_pred_dict))"
      ],
      "metadata": {
        "colab": {
          "base_uri": "https://localhost:8080/"
        },
        "outputId": "09fafa39-afe7-48f3-c597-c1d0d50f365b",
        "id": "4YkWtsPuRcZ6"
      },
      "execution_count": null,
      "outputs": [
        {
          "output_type": "stream",
          "name": "stdout",
          "text": [
            "Average precision@3= 0.01887450917376377\n"
          ]
        }
      ]
    },
    {
      "cell_type": "code",
      "source": [
        "print(\"Average precision@5=\",precision_at_k(5,y_test,y_pred_dict))"
      ],
      "metadata": {
        "colab": {
          "base_uri": "https://localhost:8080/"
        },
        "outputId": "4feb3855-611a-4933-d438-59026935c825",
        "id": "V0YzoUq1RcZ6"
      },
      "execution_count": null,
      "outputs": [
        {
          "output_type": "stream",
          "name": "stdout",
          "text": [
            "Average precision@5= 0.016165214274236468\n"
          ]
        }
      ]
    },
    {
      "cell_type": "markdown",
      "source": [
        "FastXML with n_trees=8\n",
        "\n",
        "\n",
        "*   Training time is around 17 min\n",
        "*   Prediction time on test data is around 50 sec\n",
        "*   Model size: 293 MB\n",
        "\n"
      ],
      "metadata": {
        "id": "n5d51gn_RcZ6"
      }
    },
    {
      "cell_type": "code",
      "execution_count": null,
      "metadata": {
        "id": "6PELHookRcZ6"
      },
      "outputs": [],
      "source": [
        "trainer = Trainer(n_trees=8, n_jobs=-1)\n",
        "trainer.fit(x_train_csr_list, y_train)"
      ]
    },
    {
      "cell_type": "code",
      "execution_count": null,
      "metadata": {
        "id": "bKgANOyiRcZ6"
      },
      "outputs": [],
      "source": [
        "trainer.save(\"trainer\")"
      ]
    },
    {
      "cell_type": "code",
      "source": [
        "print(\"Model Size:\")\n",
        "!du -sh trainer"
      ],
      "metadata": {
        "colab": {
          "base_uri": "https://localhost:8080/"
        },
        "outputId": "27d526b8-475f-41be-f562-b4275140c963",
        "id": "sjwVHGtTvO7U"
      },
      "execution_count": null,
      "outputs": [
        {
          "output_type": "stream",
          "name": "stdout",
          "text": [
            "Model Size:\n",
            "293M\ttrainer\n"
          ]
        }
      ]
    },
    {
      "cell_type": "code",
      "execution_count": null,
      "metadata": {
        "id": "DR8UXLdLRcZ7"
      },
      "outputs": [],
      "source": [
        "inferencer = Inferencer(\"trainer\")\n",
        "y_pred_score = inferencer.predict(x_test)"
      ]
    },
    {
      "cell_type": "code",
      "source": [
        "y_pred_dict=inferencer.predict(x_test,fmt='dict')"
      ],
      "metadata": {
        "id": "CUYy6hfdRcZ7"
      },
      "execution_count": null,
      "outputs": []
    },
    {
      "cell_type": "code",
      "execution_count": null,
      "metadata": {
        "id": "DG98sHKeRcZ7"
      },
      "outputs": [],
      "source": [
        "bin=Binarizer(threshold=0.5)\n",
        "#Binarizing the predictions. If probability of a label > 0.5, then putting 1 i.e., the label is chosen for the datapoint\n",
        "y_pred=bin.fit_transform(y_pred_score)"
      ]
    },
    {
      "cell_type": "code",
      "execution_count": null,
      "metadata": {
        "colab": {
          "base_uri": "https://localhost:8080/"
        },
        "outputId": "23dbd083-1485-48b8-a7b7-5f18b8fdfddd",
        "id": "rxH4dtXcRcZ7"
      },
      "outputs": [
        {
          "output_type": "stream",
          "name": "stdout",
          "text": [
            "Hamming loss: 0.0000160\n"
          ]
        }
      ],
      "source": [
        "print(\"Hamming loss:\",'{:.7f}'.format(hamming_loss(y_test_sparse,y_pred)))"
      ]
    },
    {
      "cell_type": "code",
      "source": [
        "print(\"Average precision@1=\",precision_at_k(1,y_test,y_pred_dict))"
      ],
      "metadata": {
        "colab": {
          "base_uri": "https://localhost:8080/"
        },
        "outputId": "4826b561-5a02-40d1-858c-a300b1ea7517",
        "id": "5-VIwzMbRcZ7"
      },
      "execution_count": null,
      "outputs": [
        {
          "output_type": "stream",
          "name": "stdout",
          "text": [
            "Average precision@1= 0.02353988207809545\n"
          ]
        }
      ]
    },
    {
      "cell_type": "code",
      "source": [
        "print(\"Average precision@3=\",precision_at_k(3,y_test,y_pred_dict))"
      ],
      "metadata": {
        "colab": {
          "base_uri": "https://localhost:8080/"
        },
        "outputId": "dbc92098-900f-47c4-a050-dc164ddecb3a",
        "id": "VSqm1kayRcZ7"
      },
      "execution_count": null,
      "outputs": [
        {
          "output_type": "stream",
          "name": "stdout",
          "text": [
            "Average precision@3= 0.020919807336538854\n"
          ]
        }
      ]
    },
    {
      "cell_type": "code",
      "source": [
        "print(\"Average precision@5=\",precision_at_k(5,y_test,y_pred_dict))"
      ],
      "metadata": {
        "colab": {
          "base_uri": "https://localhost:8080/"
        },
        "outputId": "40748df9-c598-4268-ca75-66098995a95f",
        "id": "4uO-xNZHRcZ7"
      },
      "execution_count": null,
      "outputs": [
        {
          "output_type": "stream",
          "name": "stdout",
          "text": [
            "Average precision@5= 0.017958418313741585\n"
          ]
        }
      ]
    },
    {
      "cell_type": "markdown",
      "source": [
        "FastXML with n_trees=16\n",
        "\n",
        "\n",
        "*   Training time is around 35 min\n",
        "*   Prediction time on test data is around 1 min\n",
        "*   Model size: 585 MB\n",
        "\n"
      ],
      "metadata": {
        "id": "ybVkrZuwRcZ7"
      }
    },
    {
      "cell_type": "code",
      "execution_count": null,
      "metadata": {
        "id": "MWu-ujtoRcZ7"
      },
      "outputs": [],
      "source": [
        "trainer = Trainer(n_trees=16, n_jobs=-1)\n",
        "trainer.fit(x_train_csr_list, y_train)"
      ]
    },
    {
      "cell_type": "code",
      "execution_count": null,
      "metadata": {
        "id": "y-tcAeMqRcZ8"
      },
      "outputs": [],
      "source": [
        "trainer.save(\"trainer\")"
      ]
    },
    {
      "cell_type": "code",
      "source": [
        "print(\"Model Size:\")\n",
        "!du -sh trainer"
      ],
      "metadata": {
        "colab": {
          "base_uri": "https://localhost:8080/"
        },
        "outputId": "d1323f49-4ad1-46cb-cb0a-72533e11fca3",
        "id": "DCCZ4wuUvP40"
      },
      "execution_count": null,
      "outputs": [
        {
          "output_type": "stream",
          "name": "stdout",
          "text": [
            "Model Size:\n",
            "585M\ttrainer\n"
          ]
        }
      ]
    },
    {
      "cell_type": "code",
      "execution_count": null,
      "metadata": {
        "id": "X4QCsv6bRcZ8"
      },
      "outputs": [],
      "source": [
        "inferencer = Inferencer(\"trainer\")\n",
        "y_pred_score = inferencer.predict(x_test)"
      ]
    },
    {
      "cell_type": "code",
      "source": [
        "y_pred_dict=inferencer.predict(x_test,fmt='dict')"
      ],
      "metadata": {
        "id": "Va7Z8DAdRcZ8"
      },
      "execution_count": null,
      "outputs": []
    },
    {
      "cell_type": "code",
      "execution_count": null,
      "metadata": {
        "id": "AT8qIZ1oRcZ8"
      },
      "outputs": [],
      "source": [
        "bin=Binarizer(threshold=0.5)\n",
        "#Binarizing the predictions. If probability of a label > 0.5, then putting 1 i.e., the label is chosen for the datapoint\n",
        "y_pred=bin.fit_transform(y_pred_score)"
      ]
    },
    {
      "cell_type": "code",
      "execution_count": null,
      "metadata": {
        "colab": {
          "base_uri": "https://localhost:8080/"
        },
        "outputId": "b4c0ce08-bc29-4679-988a-fda722d74e06",
        "id": "27ClMLNRRcZ8"
      },
      "outputs": [
        {
          "output_type": "stream",
          "name": "stdout",
          "text": [
            "Hamming loss: 0.0000160\n"
          ]
        }
      ],
      "source": [
        "print(\"Hamming loss:\",'{:.7f}'.format(hamming_loss(y_test_sparse,y_pred)))"
      ]
    },
    {
      "cell_type": "code",
      "source": [
        "print(\"Average precision@1=\",precision_at_k(1,y_test,y_pred_dict))"
      ],
      "metadata": {
        "colab": {
          "base_uri": "https://localhost:8080/"
        },
        "outputId": "98908b14-1895-4a73-d546-24395733b7a9",
        "id": "B7Hzk3JURcZ8"
      },
      "execution_count": null,
      "outputs": [
        {
          "output_type": "stream",
          "name": "stdout",
          "text": [
            "Average precision@1= 0.027218452182296883\n"
          ]
        }
      ]
    },
    {
      "cell_type": "code",
      "source": [
        "print(\"Average precision@3=\",precision_at_k(3,y_test,y_pred_dict))"
      ],
      "metadata": {
        "colab": {
          "base_uri": "https://localhost:8080/"
        },
        "outputId": "190f30e4-b352-449e-8230-0d6470bf90fd",
        "id": "sCFlVB7cRcZ8"
      },
      "execution_count": null,
      "outputs": [
        {
          "output_type": "stream",
          "name": "stdout",
          "text": [
            "Average precision@3= 0.023518456714585325\n"
          ]
        }
      ]
    },
    {
      "cell_type": "code",
      "source": [
        "print(\"Average precision@5=\",precision_at_k(5,y_test,y_pred_dict))"
      ],
      "metadata": {
        "colab": {
          "base_uri": "https://localhost:8080/"
        },
        "outputId": "baa958d8-9862-42de-da01-86d0e3184824",
        "id": "ijxZegiDRcZ8"
      },
      "execution_count": null,
      "outputs": [
        {
          "output_type": "stream",
          "name": "stdout",
          "text": [
            "Average precision@5= 0.020141778222766266\n"
          ]
        }
      ]
    },
    {
      "cell_type": "markdown",
      "metadata": {
        "id": "JV5jiqyT21Ow"
      },
      "source": [
        "# Dimensionality Reduction n_components=200"
      ]
    },
    {
      "cell_type": "code",
      "execution_count": null,
      "metadata": {
        "id": "JOb3UUFs21Ow"
      },
      "outputs": [],
      "source": [
        "from sklearn.decomposition import TruncatedSVD\n",
        "tsvd = TruncatedSVD(n_components=200)\n",
        "tsvd=tsvd.fit(x_train)"
      ]
    },
    {
      "cell_type": "code",
      "execution_count": null,
      "metadata": {
        "id": "hclNqw3z3ktz"
      },
      "outputs": [],
      "source": [
        "x_train = csr_matrix(tsvd.transform(x_train))"
      ]
    },
    {
      "cell_type": "code",
      "execution_count": null,
      "metadata": {
        "id": "ezefcLf31ShQ"
      },
      "outputs": [],
      "source": [
        "x_test = csr_matrix(tsvd.transform(x_test))"
      ]
    },
    {
      "cell_type": "markdown",
      "metadata": {
        "id": "lge1va6e2_kl"
      },
      "source": [
        "# Training a FastXML model on Dimensionally Reduced data with n_components=200"
      ]
    },
    {
      "cell_type": "markdown",
      "source": [
        "Converting train and test data to format accepted by fastXML"
      ],
      "metadata": {
        "id": "4q3tOagUYSOB"
      }
    },
    {
      "cell_type": "code",
      "execution_count": null,
      "metadata": {
        "id": "oeyPOtRUYSOB"
      },
      "outputs": [],
      "source": [
        "x_train_csr_list = [x_train.getrow(i) for i in range(x_train.shape[0])]"
      ]
    },
    {
      "cell_type": "code",
      "execution_count": null,
      "metadata": {
        "id": "-XliBbQqYSOC"
      },
      "outputs": [],
      "source": [
        "x_test_csr_list = [x_test.getrow(i) for i in range(x_test.shape[0])]"
      ]
    },
    {
      "cell_type": "markdown",
      "source": [
        "FastXML with n_trees=1\n",
        "\n",
        "\n",
        "*   Training time is around 2 min\n",
        "*   Prediction time on test data is around 0.5 min\n",
        "*   Model size: 69 MB\n"
      ],
      "metadata": {
        "id": "MXHtxdWI2_km"
      }
    },
    {
      "cell_type": "code",
      "execution_count": null,
      "metadata": {
        "id": "u5GWvptm2_km"
      },
      "outputs": [],
      "source": [
        "trainer = Trainer(n_trees=1, n_jobs=-1)\n",
        "trainer.fit(x_train_csr_list, y_train)"
      ]
    },
    {
      "cell_type": "code",
      "execution_count": null,
      "metadata": {
        "id": "uAsnoBa62_km"
      },
      "outputs": [],
      "source": [
        "trainer.save(\"trainer\")"
      ]
    },
    {
      "cell_type": "code",
      "execution_count": null,
      "metadata": {
        "colab": {
          "base_uri": "https://localhost:8080/"
        },
        "outputId": "5436bf5e-e68f-488a-f513-47cea7807498",
        "id": "bBMmVU17oF0j"
      },
      "outputs": [
        {
          "output_type": "stream",
          "name": "stdout",
          "text": [
            "Model Size:\n",
            "69M\ttrainer\n"
          ]
        }
      ],
      "source": [
        "print(\"Model Size:\")\n",
        "!du -sh trainer"
      ]
    },
    {
      "cell_type": "code",
      "execution_count": null,
      "metadata": {
        "id": "5Wl7aJTr2_km"
      },
      "outputs": [],
      "source": [
        "inferencer = Inferencer(\"trainer\")\n",
        "y_pred_score = inferencer.predict(x_test)"
      ]
    },
    {
      "cell_type": "code",
      "source": [
        "y_pred_dict=inferencer.predict(x_test,fmt='dict')"
      ],
      "metadata": {
        "id": "zbyupZAX2_km"
      },
      "execution_count": null,
      "outputs": []
    },
    {
      "cell_type": "code",
      "execution_count": null,
      "metadata": {
        "id": "CipbtHV12_km"
      },
      "outputs": [],
      "source": [
        "bin=Binarizer(threshold=0.5)\n",
        "#Binarizing the predictions. If probability of a label > 0.5, then putting 1 i.e., the label is chosen for the datapoint\n",
        "y_pred=bin.fit_transform(y_pred_score)"
      ]
    },
    {
      "cell_type": "code",
      "execution_count": null,
      "metadata": {
        "colab": {
          "base_uri": "https://localhost:8080/"
        },
        "outputId": "adfb0b52-cb79-43eb-89b0-31391e093471",
        "id": "2qIr1SLt2_km"
      },
      "outputs": [
        {
          "output_type": "stream",
          "name": "stdout",
          "text": [
            "Hamming loss: 0.0000247\n"
          ]
        }
      ],
      "source": [
        "print(\"Hamming loss:\",'{:.7f}'.format(hamming_loss(y_test_sparse,y_pred)))"
      ]
    },
    {
      "cell_type": "code",
      "source": [
        "print(\"Average precision@1=\",precision_at_k(1,y_test,y_pred_dict))"
      ],
      "metadata": {
        "colab": {
          "base_uri": "https://localhost:8080/"
        },
        "outputId": "508648ce-c757-48ec-8447-62fb560252d8",
        "id": "5aLZkeVt2_kn"
      },
      "execution_count": null,
      "outputs": [
        {
          "output_type": "stream",
          "name": "stdout",
          "text": [
            "Average precision@1= 0.02473393406756406\n"
          ]
        }
      ]
    },
    {
      "cell_type": "code",
      "source": [
        "print(\"Average precision@3=\",precision_at_k(3,y_test,y_pred_dict))"
      ],
      "metadata": {
        "colab": {
          "base_uri": "https://localhost:8080/"
        },
        "outputId": "b3e8d3c4-5c40-4a77-c897-9e64e5b88c7b",
        "id": "AOz4JbUy2_kn"
      },
      "execution_count": null,
      "outputs": [
        {
          "output_type": "stream",
          "name": "stdout",
          "text": [
            "Average precision@3= 0.0201785721643325\n"
          ]
        }
      ]
    },
    {
      "cell_type": "code",
      "source": [
        "print(\"Average precision@5=\",precision_at_k(5,y_test,y_pred_dict))"
      ],
      "metadata": {
        "colab": {
          "base_uri": "https://localhost:8080/"
        },
        "outputId": "f617e92c-f61f-43d7-ffdb-aa13a9b835a6",
        "id": "XxwtAnYj2_kn"
      },
      "execution_count": null,
      "outputs": [
        {
          "output_type": "stream",
          "name": "stdout",
          "text": [
            "Average precision@5= 0.015498844266449121\n"
          ]
        }
      ]
    },
    {
      "cell_type": "markdown",
      "source": [
        "FastXML with n_trees=4\n",
        "\n",
        "\n",
        "*   Training time is around 9 min\n",
        "*   Prediction time on test data is around 40-50 sec\n",
        "*   Model size: 275 MB\n",
        "\n"
      ],
      "metadata": {
        "id": "uaE4Dj-V2_kn"
      }
    },
    {
      "cell_type": "code",
      "execution_count": null,
      "metadata": {
        "id": "nP5gSM1T2_kn"
      },
      "outputs": [],
      "source": [
        "trainer = Trainer(n_trees=4, n_jobs=-1)\n",
        "trainer.fit(x_train_csr_list, y_train)"
      ]
    },
    {
      "cell_type": "code",
      "execution_count": null,
      "metadata": {
        "id": "REOu1paC2_kn"
      },
      "outputs": [],
      "source": [
        "trainer.save(\"trainer\")"
      ]
    },
    {
      "cell_type": "code",
      "execution_count": null,
      "metadata": {
        "id": "Wed8Swe7YhnP",
        "colab": {
          "base_uri": "https://localhost:8080/"
        },
        "outputId": "d1fe77a9-c78f-42f1-d67b-2a5646ab65a1"
      },
      "outputs": [
        {
          "output_type": "stream",
          "name": "stdout",
          "text": [
            "Model Size:\n",
            "275M\ttrainer\n"
          ]
        }
      ],
      "source": [
        "print(\"Model Size:\")\n",
        "!du -sh trainer"
      ]
    },
    {
      "cell_type": "code",
      "execution_count": null,
      "metadata": {
        "id": "YGppcdNP2_kn"
      },
      "outputs": [],
      "source": [
        "inferencer = Inferencer(\"trainer\")\n",
        "y_pred_score = inferencer.predict(x_test)"
      ]
    },
    {
      "cell_type": "code",
      "source": [
        "y_pred_dict=inferencer.predict(x_test,fmt='dict')"
      ],
      "metadata": {
        "id": "MEGeUo9g2_kn"
      },
      "execution_count": null,
      "outputs": []
    },
    {
      "cell_type": "code",
      "execution_count": null,
      "metadata": {
        "id": "7M-7uMH22_ko"
      },
      "outputs": [],
      "source": [
        "bin=Binarizer(threshold=0.5)\n",
        "#Binarizing the predictions. If probability of a label > 0.5, then putting 1 i.e., the label is chosen for the datapoint\n",
        "y_pred=bin.fit_transform(y_pred_score)"
      ]
    },
    {
      "cell_type": "code",
      "execution_count": null,
      "metadata": {
        "colab": {
          "base_uri": "https://localhost:8080/"
        },
        "outputId": "8c30476d-e310-46be-b457-da8ab3c0d237",
        "id": "h6Gxzk-32_ko"
      },
      "outputs": [
        {
          "output_type": "stream",
          "name": "stdout",
          "text": [
            "Hamming loss: 0.0000160\n"
          ]
        }
      ],
      "source": [
        "print(\"Hamming loss:\",'{:.7f}'.format(hamming_loss(y_test_sparse,y_pred)))"
      ]
    },
    {
      "cell_type": "code",
      "source": [
        "print(\"Average precision@1=\",precision_at_k(1,y_test,y_pred_dict))"
      ],
      "metadata": {
        "colab": {
          "base_uri": "https://localhost:8080/"
        },
        "outputId": "62bbe7ae-95c5-4232-ffb8-7c3bc3872f41",
        "id": "ni-9aYlL2_ko"
      },
      "execution_count": null,
      "outputs": [
        {
          "output_type": "stream",
          "name": "stdout",
          "text": [
            "Average precision@1= 0.0291541513701932\n"
          ]
        }
      ]
    },
    {
      "cell_type": "code",
      "source": [
        "print(\"Average precision@3=\",precision_at_k(3,y_test,y_pred_dict))"
      ],
      "metadata": {
        "colab": {
          "base_uri": "https://localhost:8080/"
        },
        "outputId": "4bf76492-e6bc-4944-af7c-31ab7cdf785c",
        "id": "qBo7Cvdp2_ko"
      },
      "execution_count": null,
      "outputs": [
        {
          "output_type": "stream",
          "name": "stdout",
          "text": [
            "Average precision@3= 0.025135247607157764\n"
          ]
        }
      ]
    },
    {
      "cell_type": "code",
      "source": [
        "print(\"Average precision@5=\",precision_at_k(5,y_test,y_pred_dict))"
      ],
      "metadata": {
        "colab": {
          "base_uri": "https://localhost:8080/"
        },
        "outputId": "7fdf2dfe-629d-4cd6-f511-02c4a0092d35",
        "id": "CNbh_x2E2_ko"
      },
      "execution_count": null,
      "outputs": [
        {
          "output_type": "stream",
          "name": "stdout",
          "text": [
            "Average precision@5= 0.021441218279131497\n"
          ]
        }
      ]
    },
    {
      "cell_type": "markdown",
      "source": [
        "FastXML with n_trees=8\n",
        "\n",
        "\n",
        "*   Training time is around 19 min\n",
        "*   Prediction time on test data is around 1 min\n",
        "*   Model size: 594 MB\n",
        "\n"
      ],
      "metadata": {
        "id": "8ws8VG_V2_ko"
      }
    },
    {
      "cell_type": "code",
      "execution_count": null,
      "metadata": {
        "id": "xUMyg0rV2_ko"
      },
      "outputs": [],
      "source": [
        "trainer = Trainer(n_trees=8, n_jobs=-1)\n",
        "trainer.fit(x_train_csr_list, y_train)"
      ]
    },
    {
      "cell_type": "code",
      "execution_count": null,
      "metadata": {
        "id": "ZJyo6mOo2_ko"
      },
      "outputs": [],
      "source": [
        "trainer.save(\"trainer\")"
      ]
    },
    {
      "cell_type": "code",
      "execution_count": null,
      "metadata": {
        "id": "TJ19K_ALYitA",
        "colab": {
          "base_uri": "https://localhost:8080/"
        },
        "outputId": "d069529f-6465-4781-ada5-68fa74ca643a"
      },
      "outputs": [
        {
          "output_type": "stream",
          "name": "stdout",
          "text": [
            "Model Size:\n",
            "549M\ttrainer\n"
          ]
        }
      ],
      "source": [
        "print(\"Model Size:\")\n",
        "!du -sh trainer"
      ]
    },
    {
      "cell_type": "code",
      "execution_count": null,
      "metadata": {
        "id": "NjhFe7SJ2_kp"
      },
      "outputs": [],
      "source": [
        "inferencer = Inferencer(\"trainer\")\n",
        "y_pred_score = inferencer.predict(x_test)"
      ]
    },
    {
      "cell_type": "code",
      "source": [
        "y_pred_dict=inferencer.predict(x_test,fmt='dict')"
      ],
      "metadata": {
        "id": "kBuNlekk2_kp"
      },
      "execution_count": null,
      "outputs": []
    },
    {
      "cell_type": "code",
      "execution_count": null,
      "metadata": {
        "id": "e_vu_uy22_kp"
      },
      "outputs": [],
      "source": [
        "bin=Binarizer(threshold=0.5)\n",
        "#Binarizing the predictions. If probability of a label > 0.5, then putting 1 i.e., the label is chosen for the datapoint\n",
        "y_pred=bin.fit_transform(y_pred_score)"
      ]
    },
    {
      "cell_type": "code",
      "execution_count": null,
      "metadata": {
        "colab": {
          "base_uri": "https://localhost:8080/"
        },
        "outputId": "fc8d4cee-f231-485e-eaf1-46749d284c2a",
        "id": "KTd22ONl2_kp"
      },
      "outputs": [
        {
          "output_type": "stream",
          "name": "stdout",
          "text": [
            "Hamming loss: 0.0000159\n"
          ]
        }
      ],
      "source": [
        "print(\"Hamming loss:\",'{:.7f}'.format(hamming_loss(y_test_sparse,y_pred)))"
      ]
    },
    {
      "cell_type": "code",
      "source": [
        "print(\"Average precision@1=\",precision_at_k(1,y_test,y_pred_dict))"
      ],
      "metadata": {
        "colab": {
          "base_uri": "https://localhost:8080/"
        },
        "outputId": "4cbfd804-0ad2-496d-97ab-86655a7599fd",
        "id": "VuLJGcNn2_kp"
      },
      "execution_count": null,
      "outputs": [
        {
          "output_type": "stream",
          "name": "stdout",
          "text": [
            "Average precision@1= 0.03310713093781288\n"
          ]
        }
      ]
    },
    {
      "cell_type": "code",
      "source": [
        "print(\"Average precision@3=\",precision_at_k(3,y_test,y_pred_dict))"
      ],
      "metadata": {
        "colab": {
          "base_uri": "https://localhost:8080/"
        },
        "outputId": "6dcee00f-ad8d-48a8-e0ed-64c3571fe55e",
        "id": "UCkapI9T2_kp"
      },
      "execution_count": null,
      "outputs": [
        {
          "output_type": "stream",
          "name": "stdout",
          "text": [
            "Average precision@3= 0.02808823953556415\n"
          ]
        }
      ]
    },
    {
      "cell_type": "code",
      "source": [
        "print(\"Average precision@5=\",precision_at_k(5,y_test,y_pred_dict))"
      ],
      "metadata": {
        "colab": {
          "base_uri": "https://localhost:8080/"
        },
        "outputId": "3699539c-c3bd-4d5e-b30f-bb40b0bebd52",
        "id": "fTpPLGVv2_kp"
      },
      "execution_count": null,
      "outputs": [
        {
          "output_type": "stream",
          "name": "stdout",
          "text": [
            "Average precision@5= 0.023865514641352007\n"
          ]
        }
      ]
    },
    {
      "cell_type": "markdown",
      "source": [
        "FastXML with n_trees=16\n",
        "\n",
        "\n",
        "*   Training time is around 40 min\n",
        "*   Prediction time on test data is around 1 min\n",
        "*   Model size: 1.1 GB\n",
        "\n"
      ],
      "metadata": {
        "id": "GXiDHjyY2_kp"
      }
    },
    {
      "cell_type": "code",
      "execution_count": null,
      "metadata": {
        "id": "TYZCp1mS2_kp"
      },
      "outputs": [],
      "source": [
        "trainer = Trainer(n_trees=16, n_jobs=-1)\n",
        "trainer.fit(x_train_csr_list, y_train)"
      ]
    },
    {
      "cell_type": "code",
      "execution_count": null,
      "metadata": {
        "id": "iV5pcSlm2_kq"
      },
      "outputs": [],
      "source": [
        "trainer.save(\"trainer\")"
      ]
    },
    {
      "cell_type": "code",
      "execution_count": null,
      "metadata": {
        "id": "O86q9SxcYjv9",
        "colab": {
          "base_uri": "https://localhost:8080/"
        },
        "outputId": "7436b9fa-d979-4f79-b2ca-03eb0225eef6"
      },
      "outputs": [
        {
          "output_type": "stream",
          "name": "stdout",
          "text": [
            "Model Size:\n",
            "1.1G\ttrainer\n"
          ]
        }
      ],
      "source": [
        "print(\"Model Size:\")\n",
        "!du -sh trainer"
      ]
    },
    {
      "cell_type": "code",
      "execution_count": null,
      "metadata": {
        "id": "9ypDKKoj2_kq"
      },
      "outputs": [],
      "source": [
        "inferencer = Inferencer(\"trainer\")\n",
        "y_pred_score = inferencer.predict(x_test)"
      ]
    },
    {
      "cell_type": "code",
      "source": [
        "y_pred_dict=inferencer.predict(x_test,fmt='dict')"
      ],
      "metadata": {
        "id": "nuaEPmaq2_kq"
      },
      "execution_count": null,
      "outputs": []
    },
    {
      "cell_type": "code",
      "execution_count": null,
      "metadata": {
        "id": "aWzBifPX2_kq"
      },
      "outputs": [],
      "source": [
        "bin=Binarizer(threshold=0.5)\n",
        "#Binarizing the predictions. If probability of a label > 0.5, then putting 1 i.e., the label is chosen for the datapoint\n",
        "y_pred=bin.fit_transform(y_pred_score)"
      ]
    },
    {
      "cell_type": "code",
      "execution_count": null,
      "metadata": {
        "colab": {
          "base_uri": "https://localhost:8080/"
        },
        "outputId": "b5adf67b-8a4d-4ed5-a668-a2f02adb2181",
        "id": "VudzWNSj2_kq"
      },
      "outputs": [
        {
          "output_type": "stream",
          "name": "stdout",
          "text": [
            "Hamming loss: 0.0000159\n"
          ]
        }
      ],
      "source": [
        "print(\"Hamming loss:\",'{:.7f}'.format(hamming_loss(y_test_sparse,y_pred)))"
      ]
    },
    {
      "cell_type": "code",
      "source": [
        "print(\"Average precision@1=\",precision_at_k(1,y_test,y_pred_dict))"
      ],
      "metadata": {
        "colab": {
          "base_uri": "https://localhost:8080/"
        },
        "outputId": "10852596-ffd7-4526-cd10-f32021d18cca",
        "id": "giHtdUY32_kq"
      },
      "execution_count": null,
      "outputs": [
        {
          "output_type": "stream",
          "name": "stdout",
          "text": [
            "Average precision@1= 0.03639262802684763\n"
          ]
        }
      ]
    },
    {
      "cell_type": "code",
      "source": [
        "print(\"Average precision@3=\",precision_at_k(3,y_test,y_pred_dict))"
      ],
      "metadata": {
        "colab": {
          "base_uri": "https://localhost:8080/"
        },
        "outputId": "d89ec366-799a-45d1-d0bb-d705bee3fe75",
        "id": "kzgV_RMi2_kq"
      },
      "execution_count": null,
      "outputs": [
        {
          "output_type": "stream",
          "name": "stdout",
          "text": [
            "Average precision@3= 0.031062656827480727\n"
          ]
        }
      ]
    },
    {
      "cell_type": "code",
      "source": [
        "print(\"Average precision@5=\",precision_at_k(5,y_test,y_pred_dict))"
      ],
      "metadata": {
        "colab": {
          "base_uri": "https://localhost:8080/"
        },
        "outputId": "d2c21990-67e5-4e2e-ce87-25c240d035be",
        "id": "M7O0Fmi82_kq"
      },
      "execution_count": null,
      "outputs": [
        {
          "output_type": "stream",
          "name": "stdout",
          "text": [
            "Average precision@5= 0.026489709645122022\n"
          ]
        }
      ]
    },
    {
      "cell_type": "markdown",
      "source": [
        "# Dimensionality Reduction Results and Explanation"
      ],
      "metadata": {
        "id": "xD_1L-ifhPv_"
      }
    },
    {
      "cell_type": "markdown",
      "source": [
        "During experimentation, `TruncatedSVD` was tried with `n_components` as 10000, 1000, 200 and 100. Since the original data has 40000 features it is possible to believe that reducing the feature space to 10000 or 1000 will improve the speed of training and predictions and also reduce the size of the model. But the results suggested the opposite. The results were as follows:\n",
        "*   `n_components=10000`: `TruncatedSVD` fit method on the training data (`tsvd.fit(x_train)`) exceeded the RAM limits of the Google Colab runtime which is 12 GB\n",
        "*   `n_components=1000`: The `TruncatedSVD` fit method on the training data did not exceed 12 GB in this case. However, training the `FastXML` model with `n_trees=1` took much longer (>30 min) than when trained on the original training data of 40000 features (4 min)\n",
        "*   `n_components=500`: The time taken for training the `FastXML` model in this case was marginally lesser than when trained on the original data. But, the precision drops by a large amount. Further, it was observed that the size of the models increase considerably when compared to the models trained on the original data. Where the original model took 60 MB, this model took 165 MB which is more than double the size and the precision@1 score dropped from 0.10141283791300479 to 0.033908109912114806\n",
        "*   `n_components=200`: The time taken for training the `FastXML` model in this case was considerably lesser than when trained on the original data. But, the precision drops by a large amount. Further, it was observed that the size of the models actually increase when compared to the models trained on the original data.\n",
        "*   `n_components=100`: Similar to the case of `n_components=200`, the time taken for training the `FastXML` model in this case was considerably lesser than when trained on the original data. But, the precision drops by a large amount. Further, it was observed that unlike when `n_components=200` the size of the models decreased when compared to the models trained on the original data.\n",
        "\n",
        "From these observations we can conclude that since the **original data was in sparse format** with a large amount of 0s, the running time and size of the `FastXML` model is considerably less compared to when dimensionally reducing the data using `TruncatedSVD` with `n_components=10000` or `n_components=1000`. This happens because the **sparsity of the data is lost after doing dimensionality reduction with `TruncatedSVD`**. This actually increases the size of the data and increases the model training time and model size."
      ],
      "metadata": {
        "id": "_gjNipzwhW54"
      }
    },
    {
      "cell_type": "markdown",
      "source": [
        "# References"
      ],
      "metadata": {
        "id": "D8_iDWnORuLb"
      }
    },
    {
      "cell_type": "markdown",
      "source": [
        "\n",
        "*   https://github.com/Refefer/fastxml\n",
        "*   https://github.com/tomtung/omikuji/blob/master/src/model/eval.rs (For Precision@k)\n",
        "*   http://manikvarma.org/downloads/XC/XMLRepository.html\n",
        "\n",
        "\n",
        "\n"
      ],
      "metadata": {
        "id": "EIkkF5lmRcZ8"
      }
    },
    {
      "cell_type": "markdown",
      "source": [
        "#methods to increase prediction accuracy for rare labels"
      ],
      "metadata": {
        "id": "0X2K1AB75Fnk"
      }
    },
    {
      "cell_type": "markdown",
      "source": [
        "##Class weighting"
      ],
      "metadata": {
        "id": "vgDQkfLs7NyR"
      }
    },
    {
      "cell_type": "code",
      "source": [
        "def fit_with_class_weights(trainer, x_train_list, y_train, class_weights, label_counts):\n",
        "    assert len(x_train_list) == len(y_train)\n",
        "    # Compute the class weight vector\n",
        "    n_samples, n_labels = y_train.shape\n",
        "    n_classes = len(class_weights)\n",
        "    #label_counts = np.array([np.sum(y_train[:, c]) for c in range(n_labels)])\n",
        "    class_weight_vector = np.ones(n_labels)\n",
        "    for c in range(n_labels):\n",
        "        if label_counts[c] == 0:\n",
        "            class_weight_vector[c] = 0\n",
        "        else:\n",
        "            class_weight_vector[c] = class_weights[c] / label_counts[c]\n",
        "    # Train the model with class weights\n",
        "    for i in range(n_classes):\n",
        "        y_train_c = csr_matrix(y_train[:, i].reshape((-1, 1)))\n",
        "        trainer.fit(x_train_list, y_train_c)\n",
        "    return trainer\n"
      ],
      "metadata": {
        "id": "3fpSJ-k87Up1"
      },
      "execution_count": null,
      "outputs": []
    },
    {
      "cell_type": "code",
      "source": [
        "x_train_csr_list = [x_train.getrow(i) for i in range(x_train.shape[0])]\n",
        "x_test_csr_list = [x_test.getrow(i) for i in range(x_test.shape[0])]\n",
        "\n",
        "# Set class weights for rare labels\n",
        "label_counts = np.array([np.sum(y_train_sparse[:, c]) for c in range(no_labels)])\n",
        "class_weights = np.ones(no_labels)\n",
        "class_weights[label_counts < 100] = 10 # increase weight for labels with fewer than 100 samples\n",
        "\n"
      ],
      "metadata": {
        "id": "1z7OCZ7C7ZIy"
      },
      "execution_count": null,
      "outputs": []
    },
    {
      "cell_type": "markdown",
      "source": [
        "Class weighting  with n_trees=1\n",
        "\n",
        "\n",
        "*   Training time is around 4 min\n",
        "*   Prediction time on test data is around 1 min\n",
        "*   Model size: 60 MB\n",
        "\n"
      ],
      "metadata": {
        "id": "QDvaEiQyIBG8"
      }
    },
    {
      "cell_type": "code",
      "source": [
        "trainer = Trainer(n_trees=1, n_jobs=-1)\n",
        "trainer = fit_with_class_weights(trainer, x_train_csr_list, y_train_sparse, class_weights,label_counts)\n",
        "trainer.save(\"trainer\")\n",
        "\n",
        "inferencer = Inferencer(\"trainer\")\n",
        "y_pred_score = inferencer.predict(x_test_csr_list)"
      ],
      "metadata": {
        "id": "cGWQRAfJDmRg"
      },
      "execution_count": null,
      "outputs": []
    },
    {
      "cell_type": "code",
      "source": [
        "y_pred_dict = inferencer.predict(x_test_csr_list, fmt='dict')\n",
        "print(\"Average precision@1=\", precision_at_k(1, y_test, y_pred_dict))"
      ],
      "metadata": {
        "colab": {
          "base_uri": "https://localhost:8080/"
        },
        "id": "yYxnJpJeK7Yw",
        "outputId": "0030ccaf-f186-43bd-8fd5-d8b24430ef07"
      },
      "execution_count": null,
      "outputs": [
        {
          "output_type": "stream",
          "name": "stdout",
          "text": [
            "Average precision@1= 0.11155412170430529\n"
          ]
        }
      ]
    },
    {
      "cell_type": "code",
      "source": [
        "print(\"Average precision@3=\",precision_at_k(3,y_test,y_pred_dict))"
      ],
      "metadata": {
        "colab": {
          "base_uri": "https://localhost:8080/"
        },
        "id": "GABAJstbM5Vg",
        "outputId": "c7cfcccb-f92d-4573-9286-fcfa190f79b1"
      },
      "execution_count": null,
      "outputs": [
        {
          "output_type": "stream",
          "name": "stdout",
          "text": [
            "Average precision@3= 0.0923693979884871\n"
          ]
        }
      ]
    },
    {
      "cell_type": "code",
      "source": [
        "print(\"Average precision@5=\",precision_at_k(5,y_test,y_pred_dict))"
      ],
      "metadata": {
        "colab": {
          "base_uri": "https://localhost:8080/"
        },
        "id": "xyUG6uSSNiXq",
        "outputId": "fdbba0a4-227d-4fd8-8092-af99f5b6d0bf"
      },
      "execution_count": null,
      "outputs": [
        {
          "output_type": "stream",
          "name": "stdout",
          "text": [
            "Average precision@5= 0.0754431317289015\n"
          ]
        }
      ]
    },
    {
      "cell_type": "markdown",
      "source": [
        "Class weighting  with n_trees=4\n",
        "\n",
        "\n",
        "*   Training time is around 20 min\n",
        "*   Prediction time on test data is around 2 min\n",
        "*   Model size: 240 MB\n",
        "\n"
      ],
      "metadata": {
        "id": "WjDyR3mSIhqf"
      }
    },
    {
      "cell_type": "code",
      "source": [
        "trainer = Trainer(n_trees=4, n_jobs=-1)\n",
        "trainer = fit_with_class_weights(trainer, x_train_csr_list, y_train_sparse, class_weights,label_counts)\n",
        "trainer.save(\"trainer\")\n",
        "\n",
        "inferencer = Inferencer(\"trainer\")\n",
        "y_pred_score = inferencer.predict(x_test_csr_list)"
      ],
      "metadata": {
        "id": "9wbRqyNzIhqg"
      },
      "execution_count": null,
      "outputs": []
    },
    {
      "cell_type": "code",
      "source": [
        "y_pred_dict = inferencer.predict(x_test_csr_list, fmt='dict')\n",
        "print(\"Average precision@1=\", precision_at_k(1, y_test, y_pred_dict))"
      ],
      "metadata": {
        "colab": {
          "base_uri": "https://localhost:8080/"
        },
        "outputId": "cb55288c-23c5-4d1d-dc61-e94ca80efc0b",
        "id": "bHH7HDkWIhqg"
      },
      "execution_count": null,
      "outputs": [
        {
          "output_type": "stream",
          "name": "stdout",
          "text": [
            "Average precision@1= 0.14901620599128562\n"
          ]
        }
      ]
    },
    {
      "cell_type": "code",
      "source": [
        "print(\"Average precision@3=\",precision_at_k(3,y_test,y_pred_dict))"
      ],
      "metadata": {
        "colab": {
          "base_uri": "https://localhost:8080/"
        },
        "outputId": "c2619c9e-22c4-4033-ef2d-46578be25d43",
        "id": "lnW_1fKWIhqh"
      },
      "execution_count": null,
      "outputs": [
        {
          "output_type": "stream",
          "name": "stdout",
          "text": [
            "Average precision@3= 0.12486817221048181\n"
          ]
        }
      ]
    },
    {
      "cell_type": "code",
      "source": [
        "print(\"Average precision@5=\",precision_at_k(5,y_test,y_pred_dict))"
      ],
      "metadata": {
        "colab": {
          "base_uri": "https://localhost:8080/"
        },
        "outputId": "7a4d20e6-fed4-4698-ba6a-aedfcb6f6c9f",
        "id": "Tf0By997Ihqi"
      },
      "execution_count": null,
      "outputs": [
        {
          "output_type": "stream",
          "name": "stdout",
          "text": [
            "Average precision@5= 0.10759296796084018\n"
          ]
        }
      ]
    },
    {
      "cell_type": "markdown",
      "source": [
        "Class weighting  with n_trees=8\n",
        "\n",
        "\n",
        "*   Training time is around 40 min\n",
        "*   Prediction time on test data is around 3 min\n",
        "*   Model size: 480 MB\n",
        "\n"
      ],
      "metadata": {
        "id": "dz9FMuI1JsSm"
      }
    },
    {
      "cell_type": "code",
      "source": [
        "trainer = Trainer(n_trees=4, n_jobs=-1)\n",
        "trainer = fit_with_class_weights(trainer, x_train_csr_list, y_train_sparse, class_weights,label_counts)\n",
        "trainer.save(\"trainer\")\n",
        "\n",
        "inferencer = Inferencer(\"trainer\")\n",
        "y_pred_score = inferencer.predict(x_test_csr_list)"
      ],
      "metadata": {
        "id": "2AnMXdROJsSm"
      },
      "execution_count": null,
      "outputs": []
    },
    {
      "cell_type": "code",
      "source": [
        "y_pred_dict = inferencer.predict(x_test_csr_list, fmt='dict')\n",
        "print(\"Average precision@1=\", precision_at_k(1, y_test, y_pred_dict))"
      ],
      "metadata": {
        "colab": {
          "base_uri": "https://localhost:8080/"
        },
        "outputId": "525eb8ce-030a-4a8f-c540-2745f36bd902",
        "id": "hhXM9SlrJsSm"
      },
      "execution_count": null,
      "outputs": [
        {
          "output_type": "stream",
          "name": "stdout",
          "text": [
            "Average precision@1= 0.18314977565172247\n"
          ]
        }
      ]
    },
    {
      "cell_type": "code",
      "source": [
        "print(\"Average precision@3=\",precision_at_k(3,y_test,y_pred_dict))"
      ],
      "metadata": {
        "colab": {
          "base_uri": "https://localhost:8080/"
        },
        "outputId": "fd0149ca-80b4-440a-ed47-a43cf685e407",
        "id": "r_Ap5L0qJsSm"
      },
      "execution_count": null,
      "outputs": [
        {
          "output_type": "stream",
          "name": "stdout",
          "text": [
            "Average precision@3= 0.1522563389933548\n"
          ]
        }
      ]
    },
    {
      "cell_type": "code",
      "source": [
        "print(\"Average precision@5=\",precision_at_k(5,y_test,y_pred_dict))"
      ],
      "metadata": {
        "colab": {
          "base_uri": "https://localhost:8080/"
        },
        "outputId": "2c51f5d2-cd97-49f7-b342-0df0791b7c78",
        "id": "zOrJYbMzJsSm"
      },
      "execution_count": null,
      "outputs": [
        {
          "output_type": "stream",
          "name": "stdout",
          "text": [
            "Average precision@5= 0.13031151407275887\n"
          ]
        }
      ]
    },
    {
      "cell_type": "markdown",
      "source": [
        "Class weighting  with n_trees=16\n",
        "\n",
        "\n",
        "*   Training time is around 1 hour\n",
        "*   Prediction time on test data is around 6 min\n",
        "*   Model size: 950 MB\n",
        "\n"
      ],
      "metadata": {
        "id": "Vy7jvBxlJt-x"
      }
    },
    {
      "cell_type": "code",
      "source": [
        "trainer = Trainer(n_trees=4, n_jobs=-1)\n",
        "trainer = fit_with_class_weights(trainer, x_train_csr_list, y_train_sparse, class_weights,label_counts)\n",
        "trainer.save(\"trainer\")\n",
        "\n",
        "inferencer = Inferencer(\"trainer\")\n",
        "y_pred_score = inferencer.predict(x_test_csr_list)"
      ],
      "metadata": {
        "id": "JsbM1Eo7Jt-x"
      },
      "execution_count": null,
      "outputs": []
    },
    {
      "cell_type": "code",
      "source": [
        "y_pred_dict = inferencer.predict(x_test_csr_list, fmt='dict')\n",
        "print(\"Average precision@1=\", precision_at_k(1, y_test, y_pred_dict))"
      ],
      "metadata": {
        "colab": {
          "base_uri": "https://localhost:8080/"
        },
        "outputId": "cf1a02a8-15f5-4010-c503-3bd117d01a57",
        "id": "k2Oyub1gJt-x"
      },
      "execution_count": null,
      "outputs": [
        {
          "output_type": "stream",
          "name": "stdout",
          "text": [
            "Average precision@1= 0.2175851967219194\n"
          ]
        }
      ]
    },
    {
      "cell_type": "code",
      "source": [
        "print(\"Average precision@3=\",precision_at_k(3,y_test,y_pred_dict))"
      ],
      "metadata": {
        "colab": {
          "base_uri": "https://localhost:8080/"
        },
        "outputId": "624c2644-a11f-4214-9371-b758fa1753ef",
        "id": "fGfWZC65Jt-y"
      },
      "execution_count": null,
      "outputs": [
        {
          "output_type": "stream",
          "name": "stdout",
          "text": [
            "Average precision@3= 0.1814855193384541\n"
          ]
        }
      ]
    },
    {
      "cell_type": "code",
      "source": [
        "print(\"Average precision@5=\",precision_at_k(5,y_test,y_pred_dict))"
      ],
      "metadata": {
        "colab": {
          "base_uri": "https://localhost:8080/"
        },
        "outputId": "8c79d3c8-282f-425e-ae37-6020c581173c",
        "id": "UkqA1vxNJt-y"
      },
      "execution_count": null,
      "outputs": [
        {
          "output_type": "stream",
          "name": "stdout",
          "text": [
            "Average precision@5= 0.15558642785627402\n"
          ]
        }
      ]
    },
    {
      "cell_type": "markdown",
      "source": [
        "##Label Smoothing"
      ],
      "metadata": {
        "id": "t6pzq6yj5VtC"
      }
    },
    {
      "cell_type": "code",
      "source": [
        "def convert_to_csr_with_label_smoothing(txt, no_pts, no_features, no_labels, alpha):\n",
        "    x = csr_matrix((no_pts, no_features), dtype=\"float32\").tolil()\n",
        "    y = csr_matrix((no_pts, no_labels), dtype=\"float32\").tolil()\n",
        "    y_fast = []\n",
        "    for row_no in range(1, no_pts + 1):\n",
        "        row = txt[row_no].split(\" \")\n",
        "        y_row = [int(lbl) for lbl in row[0].split(\",\")]\n",
        "        y_sum = np.sum(y_row)\n",
        "        for lbl in y_row:\n",
        "            y[row_no - 1, lbl] = (1 - alpha) * y[row_no - 1, lbl] + (alpha / y_sum)\n",
        "        y_fast.append(y_row)\n",
        "        row_len = len(row)\n",
        "        if (row_len < 2 or len(row[1]) == 0):  # No non-zero feature values\n",
        "            continue\n",
        "        for i in range(1, row_len):\n",
        "            idx, val = row[i].split(\":\")\n",
        "            idx = int(idx)\n",
        "            val = float(val)\n",
        "            x[row_no - 1, idx] = val\n",
        "    return (x.tocsr(), y.tocsr(), y_fast)\n"
      ],
      "metadata": {
        "id": "8_jIuv0LRMgy"
      },
      "execution_count": null,
      "outputs": []
    },
    {
      "cell_type": "code",
      "execution_count": null,
      "metadata": {
        "id": "nMQY0r02I71m"
      },
      "outputs": [],
      "source": [
        "x_train,y_train_sparse,y_train=convert_to_csr_with_label_smoothing(train_txt,no_train_pts,no_features,no_labels,0.1)\n",
        "del(train_txt)"
      ]
    },
    {
      "cell_type": "code",
      "execution_count": null,
      "metadata": {
        "id": "RaIQFwVjI71m"
      },
      "outputs": [],
      "source": [
        "x_test,y_test_sparse,y_test=convert_to_csr_with_label_smoothing(test_txt,no_test_pts,no_features,no_labels,0.1)\n",
        "del(test_txt)"
      ]
    },
    {
      "cell_type": "code",
      "execution_count": null,
      "metadata": {
        "id": "wA3WfeTdYgv0"
      },
      "outputs": [],
      "source": [
        "x_train_csr_list = [x_train.getrow(i) for i in range(x_train.shape[0])]"
      ]
    },
    {
      "cell_type": "code",
      "execution_count": null,
      "metadata": {
        "id": "_f_h3xj-Ygv8"
      },
      "outputs": [],
      "source": [
        "x_test_csr_list = [x_test.getrow(i) for i in range(x_test.shape[0])]"
      ]
    },
    {
      "cell_type": "markdown",
      "source": [
        "Label Smoothing  with n_trees=1\n",
        "\n",
        "\n",
        "*   Training time is around 3 min\n",
        "*   Prediction time on test data is around 1 min\n",
        "*   Model size: 49 MB\n",
        "\n"
      ],
      "metadata": {
        "id": "SIehFCLKT2h_"
      }
    },
    {
      "cell_type": "code",
      "execution_count": null,
      "metadata": {
        "id": "tEPvLn4nYpHj"
      },
      "outputs": [],
      "source": [
        "trainer = Trainer(n_trees=1, n_jobs=-1)\n",
        "trainer.fit(x_train_csr_list, y_train)"
      ]
    },
    {
      "cell_type": "code",
      "execution_count": null,
      "metadata": {
        "id": "hcJ0f9ZiYpHk"
      },
      "outputs": [],
      "source": [
        "trainer.save(\"trainer\")"
      ]
    },
    {
      "cell_type": "code",
      "source": [
        "print(\"Model Size:\")\n",
        "!du -sh trainer"
      ],
      "metadata": {
        "colab": {
          "base_uri": "https://localhost:8080/"
        },
        "outputId": "019c4b72-a3c4-44b7-af9c-c901bd73a029",
        "id": "1xIjPfIWI71n"
      },
      "execution_count": null,
      "outputs": [
        {
          "output_type": "stream",
          "name": "stdout",
          "text": [
            "Model Size:\n",
            "60M\ttrainer\n"
          ]
        }
      ]
    },
    {
      "cell_type": "code",
      "execution_count": null,
      "metadata": {
        "id": "LiEUFOcEYpHl"
      },
      "outputs": [],
      "source": [
        "inferencer = Inferencer(\"trainer\")\n",
        "y_pred_score = inferencer.predict(x_test) #Returns prediction scores/probabilities in sparse format"
      ]
    },
    {
      "cell_type": "code",
      "source": [
        "y_pred_dict=inferencer.predict(x_test,fmt='dict') #Returns List[OrderedDict] where prediction scores/probabilities are sorted in decreasing order"
      ],
      "metadata": {
        "id": "3_quWR7KYpHl"
      },
      "execution_count": null,
      "outputs": []
    },
    {
      "cell_type": "code",
      "source": [
        "print(\"Average precision@1=\",precision_at_k(1,y_test,y_pred_dict))"
      ],
      "metadata": {
        "colab": {
          "base_uri": "https://localhost:8080/"
        },
        "outputId": "7149c129-afd2-43d1-f67b-2e9226daac66",
        "id": "RzKuiKL5I71n"
      },
      "execution_count": null,
      "outputs": [
        {
          "output_type": "stream",
          "name": "stdout",
          "text": [
            "Average precision@1= 0.18254310824340964\n"
          ]
        }
      ]
    },
    {
      "cell_type": "code",
      "source": [
        "print(\"Average precision@3=\",precision_at_k(3,y_test,y_pred_dict))"
      ],
      "metadata": {
        "colab": {
          "base_uri": "https://localhost:8080/"
        },
        "outputId": "0ddb6bb6-db62-49b0-c055-2bbdb7b4390e",
        "id": "6ZEV5pBaI71n"
      },
      "execution_count": null,
      "outputs": [
        {
          "output_type": "stream",
          "name": "stdout",
          "text": [
            "Average precision@3= 0.15114992398116073\n"
          ]
        }
      ]
    },
    {
      "cell_type": "code",
      "source": [
        "print(\"Average precision@5=\",precision_at_k(5,y_test,y_pred_dict))"
      ],
      "metadata": {
        "colab": {
          "base_uri": "https://localhost:8080/"
        },
        "outputId": "d6162809-e87f-40d5-cc3f-73e90e95016c",
        "id": "aaLe5OOhI71n"
      },
      "execution_count": null,
      "outputs": [
        {
          "output_type": "stream",
          "name": "stdout",
          "text": [
            "Average precision@5= 0.1234523973745661\n"
          ]
        }
      ]
    },
    {
      "cell_type": "markdown",
      "source": [
        "Label Smoothing  with n_trees=4\n",
        "\n",
        "\n",
        "*   Training time is around 15 min\n",
        "*   Prediction time on test data is around 2 min\n",
        "*   Model size: 224 MB\n",
        "\n"
      ],
      "metadata": {
        "id": "jlgL2laIU5Kb"
      }
    },
    {
      "cell_type": "code",
      "source": [
        "trainer = Trainer(n_trees=4, n_jobs=-1)\n",
        "trainer = fit_with_class_weights(trainer, x_train_csr_list, y_train_sparse, class_weights,label_counts)\n",
        "trainer.save(\"trainer\")\n",
        "\n",
        "inferencer = Inferencer(\"trainer\")\n",
        "y_pred_score = inferencer.predict(x_test_csr_list)"
      ],
      "metadata": {
        "id": "MovUoQU0U5Kb"
      },
      "execution_count": null,
      "outputs": []
    },
    {
      "cell_type": "code",
      "source": [
        "y_pred_dict = inferencer.predict(x_test_csr_list, fmt='dict')\n",
        "print(\"Average precision@1=\", precision_at_k(1, y_test, y_pred_dict))"
      ],
      "metadata": {
        "colab": {
          "base_uri": "https://localhost:8080/"
        },
        "outputId": "4c06c224-c19d-4272-b10d-c305b0c0bcc6",
        "id": "Aln8uVAeU5Kb"
      },
      "execution_count": null,
      "outputs": [
        {
          "output_type": "stream",
          "name": "stdout",
          "text": [
            "Average precision@1= 0.2448446988766498\n"
          ]
        }
      ]
    },
    {
      "cell_type": "code",
      "source": [
        "print(\"Average precision@3=\",precision_at_k(3,y_test,y_pred_dict))"
      ],
      "metadata": {
        "colab": {
          "base_uri": "https://localhost:8080/"
        },
        "outputId": "eddb0fa9-7dbd-4e72-acbb-8f5f7f25db12",
        "id": "VVedav0-U5Kc"
      },
      "execution_count": null,
      "outputs": [
        {
          "output_type": "stream",
          "name": "stdout",
          "text": [
            "Average precision@3= 0.20433073634442567\n"
          ]
        }
      ]
    },
    {
      "cell_type": "code",
      "source": [
        "print(\"Average precision@5=\",precision_at_k(5,y_test,y_pred_dict))"
      ],
      "metadata": {
        "colab": {
          "base_uri": "https://localhost:8080/"
        },
        "outputId": "692d8ffa-a4b6-4c92-b89d-fe59efff3369",
        "id": "Y5OW84cuU5Kc"
      },
      "execution_count": null,
      "outputs": [
        {
          "output_type": "stream",
          "name": "stdout",
          "text": [
            "Average precision@5= 0.1760595839361203\n"
          ]
        }
      ]
    },
    {
      "cell_type": "markdown",
      "source": [
        "Label Smoothing  with n_trees=8\n",
        "\n",
        "\n",
        "*   Training time is around 30 min\n",
        "*   Prediction time on test data is around 3 min\n",
        "*   Model size: 464 MB\n",
        "\n"
      ],
      "metadata": {
        "id": "QB5spVTcU5Kc"
      }
    },
    {
      "cell_type": "code",
      "source": [
        "trainer = Trainer(n_trees=4, n_jobs=-1)\n",
        "trainer = fit_with_class_weights(trainer, x_train_csr_list, y_train_sparse, class_weights,label_counts)\n",
        "trainer.save(\"trainer\")\n",
        "\n",
        "inferencer = Inferencer(\"trainer\")\n",
        "y_pred_score = inferencer.predict(x_test_csr_list)"
      ],
      "metadata": {
        "id": "K7EFHIP4U5Kc"
      },
      "execution_count": null,
      "outputs": []
    },
    {
      "cell_type": "code",
      "source": [
        "y_pred_dict = inferencer.predict(x_test_csr_list, fmt='dict')\n",
        "print(\"Average precision@1=\", precision_at_k(1, y_test, y_pred_dict))"
      ],
      "metadata": {
        "colab": {
          "base_uri": "https://localhost:8080/"
        },
        "outputId": "b4978002-50dd-488d-e05b-2f538e202e46",
        "id": "mHu1dOkHU5Kc"
      },
      "execution_count": null,
      "outputs": [
        {
          "output_type": "stream",
          "name": "stdout",
          "text": [
            "Average precision@1= 0.2830497326799447\n"
          ]
        }
      ]
    },
    {
      "cell_type": "code",
      "source": [
        "print(\"Average precision@3=\",precision_at_k(3,y_test,y_pred_dict))"
      ],
      "metadata": {
        "colab": {
          "base_uri": "https://localhost:8080/"
        },
        "outputId": "6916f752-276a-4043-86c0-357e5fd9ddd4",
        "id": "zfi9nQChU5Kc"
      },
      "execution_count": null,
      "outputs": [
        {
          "output_type": "stream",
          "name": "stdout",
          "text": [
            "Average precision@3= 0.23530524962609278\n"
          ]
        }
      ]
    },
    {
      "cell_type": "code",
      "source": [
        "print(\"Average precision@5=\",precision_at_k(5,y_test,y_pred_dict))"
      ],
      "metadata": {
        "colab": {
          "base_uri": "https://localhost:8080/"
        },
        "outputId": "94dc0868-b8cb-4ac9-def3-8e10fc51a1a0",
        "id": "Tjn0CGPWU5Kc"
      },
      "execution_count": null,
      "outputs": [
        {
          "output_type": "stream",
          "name": "stdout",
          "text": [
            "Average precision@5= 0.2011021022288091\n"
          ]
        }
      ]
    },
    {
      "cell_type": "markdown",
      "source": [
        "Label Smoothing  with n_trees=16\n",
        "\n",
        "\n",
        "*   Training time is around  45 min\n",
        "*   Prediction time on test data is around 5 min\n",
        "*   Model size: 920 MB\n",
        "\n"
      ],
      "metadata": {
        "id": "CRIasf2wU5Kc"
      }
    },
    {
      "cell_type": "code",
      "source": [
        "trainer = Trainer(n_trees=4, n_jobs=-1)\n",
        "trainer = fit_with_class_weights(trainer, x_train_csr_list, y_train_sparse, class_weights,label_counts)\n",
        "trainer.save(\"trainer\")\n",
        "\n",
        "inferencer = Inferencer(\"trainer\")\n",
        "y_pred_score = inferencer.predict(x_test_csr_list)"
      ],
      "metadata": {
        "id": "Jd0wcvqIU5Kd"
      },
      "execution_count": null,
      "outputs": []
    },
    {
      "cell_type": "code",
      "source": [
        "y_pred_dict = inferencer.predict(x_test_csr_list, fmt='dict')\n",
        "print(\"Average precision@1=\", precision_at_k(1, y_test, y_pred_dict))"
      ],
      "metadata": {
        "colab": {
          "base_uri": "https://localhost:8080/"
        },
        "outputId": "da47dcdc-6398-4779-c7ce-1e3a985a31fc",
        "id": "W0LNsZZBU5Kd"
      },
      "execution_count": null,
      "outputs": [
        {
          "output_type": "stream",
          "name": "stdout",
          "text": [
            "Average precision@1= 0.3354682010953097\n"
          ]
        }
      ]
    },
    {
      "cell_type": "code",
      "source": [
        "print(\"Average precision@3=\",precision_at_k(3,y_test,y_pred_dict))"
      ],
      "metadata": {
        "colab": {
          "base_uri": "https://localhost:8080/"
        },
        "outputId": "b27f7a69-29a8-4848-a6e0-40dbe4cbb9cb",
        "id": "bPClHuEcU5Kd"
      },
      "execution_count": null,
      "outputs": [
        {
          "output_type": "stream",
          "name": "stdout",
          "text": [
            "Average precision@3= 0.28047662139589374\n"
          ]
        }
      ]
    },
    {
      "cell_type": "code",
      "source": [
        "print(\"Average precision@5=\",precision_at_k(5,y_test,y_pred_dict))"
      ],
      "metadata": {
        "colab": {
          "base_uri": "https://localhost:8080/"
        },
        "outputId": "c6a8a249-e029-473e-82e3-037b190300ab",
        "id": "Z6snwe9pU5Kd"
      },
      "execution_count": null,
      "outputs": [
        {
          "output_type": "stream",
          "name": "stdout",
          "text": [
            "Average precision@5= 0.24035134921935258\n"
          ]
        }
      ]
    },
    {
      "cell_type": "markdown",
      "source": [
        "##Ensemble Learning"
      ],
      "metadata": {
        "id": "RVMgVPk95ZRK"
      }
    },
    {
      "cell_type": "code",
      "source": [
        "from sklearn.multiclass import OneVsRestClassifier\n",
        "from sklearn.ensemble import RandomForestClassifier\n",
        "from sklearn.metrics import precision_score, recall_score\n",
        "\n",
        "# Initialize base classifier\n",
        "base_clf = RandomForestClassifier(n_estimators=100, max_depth=5, random_state=0)\n",
        "\n",
        "# Initialize OneVsRestClassifier wrapper with the base classifier\n",
        "ovr_clf = OneVsRestClassifier(base_clf)\n",
        "\n",
        "# Train the model on the training data\n",
        "ovr_clf.fit(x_train, y_train_sparse)\n",
        "\n",
        "# Predict on the test data\n",
        "y_pred_sparse = ovr_clf.predict(x_test)\n",
        "\n",
        "# Convert the sparse predictions to a dense array\n",
        "y_pred = y_pred_sparse.toarray()\n"
      ],
      "metadata": {
        "id": "duC0sSmo7sXH"
      },
      "execution_count": null,
      "outputs": []
    },
    {
      "cell_type": "code",
      "source": [
        "print(\"Average precision@1=\", precision_at_k(1, y_test, y_pred))"
      ],
      "metadata": {
        "colab": {
          "base_uri": "https://localhost:8080/"
        },
        "outputId": "07b4bcdc-b6c5-4242-faac-ffbe29c1c51f",
        "id": "GRhPbI1DVcpT"
      },
      "execution_count": null,
      "outputs": [
        {
          "output_type": "stream",
          "name": "stdout",
          "text": [
            "Average precision@1= 0.17610401433424666\n"
          ]
        }
      ]
    },
    {
      "cell_type": "code",
      "source": [
        "print(\"Average precision@3=\",precision_at_k(3,y_test,y_pred))"
      ],
      "metadata": {
        "colab": {
          "base_uri": "https://localhost:8080/"
        },
        "outputId": "5ba28559-8076-41c0-cd3b-56ae071c0540",
        "id": "PcrfSr8dVcpT"
      },
      "execution_count": null,
      "outputs": [
        {
          "output_type": "stream",
          "name": "stdout",
          "text": [
            "Average precision@3= 0.14757147624975123\n"
          ]
        }
      ]
    },
    {
      "cell_type": "code",
      "source": [
        "print(\"Average precision@5=\",precision_at_k(5,y_test,y_pred))"
      ],
      "metadata": {
        "colab": {
          "base_uri": "https://localhost:8080/"
        },
        "outputId": "3584dc97-5404-4bbf-c165-79667d5a071b",
        "id": "tntfJ8w-VcpU"
      },
      "execution_count": null,
      "outputs": [
        {
          "output_type": "stream",
          "name": "stdout",
          "text": [
            "Average precision@5= 0.1271541539570202\n"
          ]
        }
      ]
    },
    {
      "cell_type": "markdown",
      "source": [
        "##Transfer Learning"
      ],
      "metadata": {
        "id": "QnNqUI9-5ej6"
      }
    },
    {
      "cell_type": "code",
      "source": [
        "!pip install transformers"
      ],
      "metadata": {
        "id": "k7nL_Y2rFFpL"
      },
      "execution_count": null,
      "outputs": []
    },
    {
      "cell_type": "code",
      "source": [
        "import torch\n",
        "from transformers import BertModel, BertTokenizer\n",
        "from torch.utils.data import TensorDataset, DataLoader, RandomSampler\n",
        "\n",
        "# Load the pre-trained BERT model and tokenizer\n",
        "bert_model = BertModel.from_pretrained('bert-base-uncased')\n",
        "tokenizer = BertTokenizer.from_pretrained('bert-base-uncased')"
      ],
      "metadata": {
        "id": "ai-gcD68FY9D"
      },
      "execution_count": null,
      "outputs": []
    },
    {
      "cell_type": "code",
      "source": [
        "# Tokenize the training and testing data\n",
        "x_train_tokens = tokenizer.batch_encode_plus(x_train, padding=True, truncation=True, max_length=128, return_tensors='pt')\n",
        "x_test_tokens = tokenizer.batch_encode_plus(x_test, padding=True, truncation=True, max_length=128, return_tensors='pt')\n",
        "\n",
        "# Create PyTorch DataLoader objects for the training and testing data\n",
        "batch_size = 32\n",
        "train_data = TensorDataset(x_train_tokens['input_ids'], x_train_tokens['attention_mask'], torch.tensor(y_train.toarray(), dtype=torch.float32))\n",
        "train_sampler = RandomSampler(train_data)\n",
        "train_loader = DataLoader(train_data, sampler=train_sampler, batch_size=batch_size)\n",
        "\n",
        "test_data = TensorDataset(x_test_tokens['input_ids'], x_test_tokens['attention_mask'], torch.tensor(y_test.toarray(), dtype=torch.float32))\n",
        "test_sampler = RandomSampler(test_data)\n",
        "test_loader = DataLoader(test_data, sampler=test_sampler, batch_size=batch_size)\n",
        "\n",
        "# Freeze all the pre-trained layers except the final classification layer\n",
        "for name, param in bert_model.named_parameters():\n",
        "    if 'classifier' not in name:\n",
        "        param.requires_grad = False\n",
        "\n",
        "# Modify the final classification layer to match the number of labels in the training data\n",
        "in_features = bert_model.pooler.dense.out_features\n",
        "out_features = y_train_sparse.shape[1]\n",
        "bert_model.classifier = torch.nn.Sequential(torch.nn.Linear(in_features, out_features), torch.nn.Sigmoid())\n",
        "optimizer = torch.optim.Adam(bert_model.parameters(), lr=2e-5)\n"
      ],
      "metadata": {
        "id": "aQG0Tty9EfzR"
      },
      "execution_count": null,
      "outputs": []
    },
    {
      "cell_type": "code",
      "source": [
        "# Train the modified BERT model on the training data\n",
        "num_epochs = 10\n",
        "for epoch in range(num_epochs):\n",
        "    for batch in train_loader:\n",
        "        input_ids, attention_mask, labels = batch\n",
        "        optimizer.zero_grad()\n",
        "        outputs = bert_model(input_ids, attention_mask=attention_mask)\n",
        "        loss = torch.nn.BCELoss()(outputs[0], labels)\n",
        "        loss.backward()\n",
        "        optimizer.step()"
      ],
      "metadata": {
        "id": "Kb17I4eIEt1U"
      },
      "execution_count": null,
      "outputs": []
    },
    {
      "cell_type": "code",
      "source": [
        "# Evaluate the modified BERT model on the testing data\n",
        "bert_model.eval()\n",
        "with torch.no_grad():\n",
        "    y_pred = []\n",
        "    for batch in test_loader:\n",
        "        input_ids, attention_mask, labels = batch\n",
        "        outputs = bert_model(input_ids, attention_mask=attention_mask)\n",
        "        y_pred.extend(outputs[0].cpu().numpy())\n",
        "    y_pred = torch.tensor(y_pred, dtype=torch.float32)"
      ],
      "metadata": {
        "id": "EfmvEXD2Eqfh"
      },
      "execution_count": null,
      "outputs": []
    },
    {
      "cell_type": "code",
      "source": [
        "# Calculate the precision@k metric for the predicted labels\n",
        "from typing import List, OrderedDict\n",
        "def precision_at_k(max_k: int, true_labels: List[List[int]], predicted_labels: List[OrderedDict[int, float]]) -> float:\n",
        "    assert len(true_labels) == len(predicted_labels)\n",
        "    ps = [0.0] * max_k\n",
        "    for truth, predictions in zip(true_labels, predicted_labels):\n",
        "        n_correct = 0\n",
        "        for i, (label, score) in enumerate(predictions.items()):\n",
        "            if i >= max_k:\n",
        "                break\n",
        "            if label in truth:\n",
        "                n_correct += 1\n",
        "            ps[i] += n_correct / (i + 1)\n",
        "        ps = [p / len(predicted_labels) for p in ps]\n",
        "    return sum(ps) / len(ps)\n",
        "\n",
        "k = 1\n",
        "y_pred_sorted = [sorted(zip(range(len(row)), row), key=lambda x: -x[1]) for row in y_pred]\n",
        "y_pred_top_k = [[label for label, score in row[:k]] for row in y_pred_sorted]\n",
        "\n",
        "score = precision_at_k(k,y_test, y_pred_top_k)"
      ],
      "metadata": {
        "id": "r-c5y7dOEkxf"
      },
      "execution_count": null,
      "outputs": []
    },
    {
      "cell_type": "code",
      "source": [
        "k = 1\n",
        "print(f\"Precision@{k}: {score}\")"
      ],
      "metadata": {
        "colab": {
          "base_uri": "https://localhost:8080/"
        },
        "id": "EZu8CkQVGC2c",
        "outputId": "31f40aaa-e2ae-4692-b8f7-cb1bc89fe006"
      },
      "execution_count": null,
      "outputs": [
        {
          "output_type": "stream",
          "name": "stdout",
          "text": [
            "Precision@1: 0.3421845218229688\n"
          ]
        }
      ]
    },
    {
      "cell_type": "code",
      "source": [
        "k = 3\n",
        "print(f\"Precision@{k}: {score}\")"
      ],
      "metadata": {
        "colab": {
          "base_uri": "https://localhost:8080/"
        },
        "id": "89jQti1OGeQM",
        "outputId": "9e091632-0988-4d2e-d05e-eaa1c454c2ae"
      },
      "execution_count": null,
      "outputs": [
        {
          "output_type": "stream",
          "name": "stdout",
          "text": [
            "Precision@3: 0.3351845671458532\n"
          ]
        }
      ]
    },
    {
      "cell_type": "code",
      "source": [
        "k = 5\n",
        "print(f\"Precision@{k}: {score}\")"
      ],
      "metadata": {
        "colab": {
          "base_uri": "https://localhost:8080/"
        },
        "id": "yyEsqyMbGr4P",
        "outputId": "9f3baaa3-ab38-49e8-a1c2-24f3c7ba15fc"
      },
      "execution_count": null,
      "outputs": [
        {
          "output_type": "stream",
          "name": "stdout",
          "text": [
            "Precision@5: 0.30141778222766263\n"
          ]
        }
      ]
    }
  ],
  "metadata": {
    "colab": {
      "provenance": []
    },
    "kernelspec": {
      "display_name": "Python 3",
      "name": "python3"
    },
    "language_info": {
      "name": "python"
    },
    "gpuClass": "standard"
  },
  "nbformat": 4,
  "nbformat_minor": 0
}